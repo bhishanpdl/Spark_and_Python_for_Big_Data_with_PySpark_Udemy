{
 "cells": [
  {
   "cell_type": "markdown",
   "metadata": {
    "toc": true
   },
   "source": [
    "<h1>Table of Contents<span class=\"tocSkip\"></span></h1>\n",
    "<div class=\"toc\"><ul class=\"toc-item\"><li><span><a href=\"#Linear-Regression-Consulting-Project\" data-toc-modified-id=\"Linear-Regression-Consulting-Project-1\"><span class=\"toc-item-num\">1&nbsp;&nbsp;</span>Linear Regression Consulting Project</a></span></li><li><span><a href=\"#Read-the-data\" data-toc-modified-id=\"Read-the-data-2\"><span class=\"toc-item-num\">2&nbsp;&nbsp;</span>Read the data</a></span></li><li><span><a href=\"#String-Indexing\" data-toc-modified-id=\"String-Indexing-3\"><span class=\"toc-item-num\">3&nbsp;&nbsp;</span>String Indexing</a></span></li><li><span><a href=\"#Use-VectorAssembler-to-get-final-data\" data-toc-modified-id=\"Use-VectorAssembler-to-get-final-data-4\"><span class=\"toc-item-num\">4&nbsp;&nbsp;</span>Use VectorAssembler to get final data</a></span></li><li><span><a href=\"#train-test-split\" data-toc-modified-id=\"train-test-split-5\"><span class=\"toc-item-num\">5&nbsp;&nbsp;</span>train test split</a></span></li><li><span><a href=\"#Build-the-model\" data-toc-modified-id=\"Build-the-model-6\"><span class=\"toc-item-num\">6&nbsp;&nbsp;</span>Build the model</a></span></li><li><span><a href=\"#Evaluate-the-model\" data-toc-modified-id=\"Evaluate-the-model-7\"><span class=\"toc-item-num\">7&nbsp;&nbsp;</span>Evaluate the model</a></span></li><li><span><a href=\"#Test-predictions\" data-toc-modified-id=\"Test-predictions-8\"><span class=\"toc-item-num\">8&nbsp;&nbsp;</span>Test predictions</a></span></li><li><span><a href=\"#Check-corrrelations\" data-toc-modified-id=\"Check-corrrelations-9\"><span class=\"toc-item-num\">9&nbsp;&nbsp;</span>Check corrrelations</a></span></li></ul></div>"
   ]
  },
  {
   "cell_type": "code",
   "execution_count": 1,
   "metadata": {
    "ExecuteTime": {
     "end_time": "2019-09-18T04:15:41.061759Z",
     "start_time": "2019-09-18T04:15:37.398381Z"
    }
   },
   "outputs": [
    {
     "name": "stdout",
     "output_type": "stream",
     "text": [
      "[('numpy', '1.17.1'), ('pandas', '0.25.1'), ('pyspark', '2.4.4')]\n"
     ]
    }
   ],
   "source": [
    "import numpy as np\n",
    "import pandas as pd\n",
    "import pyspark\n",
    "from pyspark import SparkConf, SparkContext, SQLContext\n",
    "from pyspark.sql import SparkSession\n",
    "from pyspark.sql.functions import udf # @udf(\"integer\") def myfunc(x,y): return x - y\n",
    "from pyspark.sql import functions as F # stddev format_number date_format, dayofyear, when\n",
    "from pyspark.sql.types import StructField, StringType, IntegerType, StructType\n",
    "\n",
    "print([(x.__name__,x.__version__) for x in [np, pd, pyspark]])\n",
    "\n",
    "spark = pyspark.sql.SparkSession.builder.appName('lrex').getOrCreate()\n",
    "sc = spark.sparkContext\n",
    "sqlContext = SQLContext(sc)\n",
    "sc.setLogLevel(\"INFO\")"
   ]
  },
  {
   "cell_type": "code",
   "execution_count": 23,
   "metadata": {
    "ExecuteTime": {
     "end_time": "2019-09-18T04:19:18.160245Z",
     "start_time": "2019-09-18T04:19:18.157054Z"
    }
   },
   "outputs": [],
   "source": [
    "from pyspark.ml import Pipeline\n",
    "from pyspark.ml.feature import StringIndexer\n",
    "\n",
    "from pyspark.ml.linalg import Vectors\n",
    "from pyspark.ml.feature import VectorAssembler\n",
    "\n",
    "from pyspark.ml.regression import LinearRegression"
   ]
  },
  {
   "cell_type": "code",
   "execution_count": 3,
   "metadata": {
    "ExecuteTime": {
     "end_time": "2019-09-18T04:15:41.202324Z",
     "start_time": "2019-09-18T04:15:41.196242Z"
    }
   },
   "outputs": [],
   "source": [
    "def show_method_attributes(method, ncols=2):\n",
    "    \"\"\" Show all the attributes of a given method.\n",
    "    Example:\n",
    "    ========\n",
    "    show_method_attributes(list)\n",
    "     \"\"\"\n",
    "    x = [I for I in dir(method) if I[0].islower()]\n",
    "    x = [I for I in x if I not in 'os np pd sys time psycopg2'.split()]\n",
    "\n",
    "    return pd.DataFrame(np.array_split(x,ncols)).T.fillna('')"
   ]
  },
  {
   "cell_type": "markdown",
   "metadata": {},
   "source": [
    "# Linear Regression Consulting Project\n",
    "\n",
    "<font color='gray'> Your job is to create a regression model\n",
    "that will help predict how many crew\n",
    "members will be needed for future ships. </font>\n",
    "\n",
    "> In other words, use the features you think\n",
    "will be useful to predict the value in the\n",
    "Crew column.\n",
    "\n",
    "> The cruise line value is a string however!\n",
    "We haven't covered exactly how to\n",
    "convert strings to numbers with Python\n",
    "and Spark (yet)\n",
    "Try to see if you can discover how to use\n",
    "Stringlndexer from the documentation!"
   ]
  },
  {
   "cell_type": "markdown",
   "metadata": {},
   "source": [
    "# Read the data"
   ]
  },
  {
   "cell_type": "code",
   "execution_count": 4,
   "metadata": {
    "ExecuteTime": {
     "end_time": "2019-09-18T04:15:41.326611Z",
     "start_time": "2019-09-18T04:15:41.204108Z"
    }
   },
   "outputs": [
    {
     "name": "stdout",
     "output_type": "stream",
     "text": [
      "Ship_name,Cruise_line,Age,Tonnage,passengers,length,cabins,passenger_density,crew\r\n",
      "Journey,Azamara,6,30.276999999999997,6.94,5.94,3.55,42.64,3.55\r\n"
     ]
    }
   ],
   "source": [
    "!head -2 ../data/cruise_ship_info.csv"
   ]
  },
  {
   "cell_type": "code",
   "execution_count": 28,
   "metadata": {
    "ExecuteTime": {
     "end_time": "2019-09-18T04:23:02.119914Z",
     "start_time": "2019-09-18T04:23:01.625647Z"
    }
   },
   "outputs": [
    {
     "name": "stdout",
     "output_type": "stream",
     "text": [
      "158\n",
      "+-----------+-----------+---+------------------+----------+------+------+-----------------+----+\n",
      "|  Ship_name|Cruise_line|Age|           Tonnage|passengers|length|cabins|passenger_density|crew|\n",
      "+-----------+-----------+---+------------------+----------+------+------+-----------------+----+\n",
      "|    Journey|    Azamara|  6|30.276999999999997|      6.94|  5.94|  3.55|            42.64|3.55|\n",
      "|      Quest|    Azamara|  6|30.276999999999997|      6.94|  5.94|  3.55|            42.64|3.55|\n",
      "|Celebration|   Carnival| 26|            47.262|     14.86|  7.22|  7.43|             31.8| 6.7|\n",
      "|   Conquest|   Carnival| 11|             110.0|     29.74|  9.53| 14.88|            36.99|19.1|\n",
      "|    Destiny|   Carnival| 17|           101.353|     26.42|  8.92| 13.21|            38.36|10.0|\n",
      "|    Ecstasy|   Carnival| 22|            70.367|     20.52|  8.55|  10.2|            34.29| 9.2|\n",
      "|    Elation|   Carnival| 15|            70.367|     20.52|  8.55|  10.2|            34.29| 9.2|\n",
      "|    Fantasy|   Carnival| 23|            70.367|     20.56|  8.55| 10.22|            34.23| 9.2|\n",
      "|Fascination|   Carnival| 19|            70.367|     20.52|  8.55|  10.2|            34.29| 9.2|\n",
      "|    Freedom|   Carnival|  6|110.23899999999999|      37.0|  9.51| 14.87|            29.79|11.5|\n",
      "|      Glory|   Carnival| 10|             110.0|     29.74|  9.51| 14.87|            36.99|11.6|\n",
      "|    Holiday|   Carnival| 28|            46.052|     14.52|  7.27|  7.26|            31.72| 6.6|\n",
      "|Imagination|   Carnival| 18|            70.367|     20.52|  8.55|  10.2|            34.29| 9.2|\n",
      "|Inspiration|   Carnival| 17|            70.367|     20.52|  8.55|  10.2|            34.29| 9.2|\n",
      "|     Legend|   Carnival| 11|              86.0|     21.24|  9.63| 10.62|            40.49| 9.3|\n",
      "|   Liberty*|   Carnival|  8|             110.0|     29.74|  9.51| 14.87|            36.99|11.6|\n",
      "|    Miracle|   Carnival|  9|              88.5|     21.24|  9.63| 10.62|            41.67|10.3|\n",
      "|   Paradise|   Carnival| 15|            70.367|     20.52|  8.55|  10.2|            34.29| 9.2|\n",
      "|      Pride|   Carnival| 12|              88.5|     21.24|  9.63| 11.62|            41.67| 9.3|\n",
      "|  Sensation|   Carnival| 20|            70.367|     20.52|  8.55|  10.2|            34.29| 9.2|\n",
      "+-----------+-----------+---+------------------+----------+------+------+-----------------+----+\n",
      "only showing top 20 rows\n",
      "\n"
     ]
    }
   ],
   "source": [
    "df = spark.read.csv('../data/cruise_ship_info.csv',\n",
    "                         header=True, inferSchema=True)\n",
    "print(df.count())\n",
    "df.show()"
   ]
  },
  {
   "cell_type": "code",
   "execution_count": 29,
   "metadata": {
    "ExecuteTime": {
     "end_time": "2019-09-18T04:23:08.599783Z",
     "start_time": "2019-09-18T04:23:08.593377Z"
    }
   },
   "outputs": [
    {
     "name": "stdout",
     "output_type": "stream",
     "text": [
      "['Ship_name', 'Cruise_line', 'Age', 'Tonnage', 'passengers', 'length', 'cabins', 'passenger_density', 'crew']\n"
     ]
    }
   ],
   "source": [
    "print(df.columns)"
   ]
  },
  {
   "cell_type": "code",
   "execution_count": 30,
   "metadata": {
    "ExecuteTime": {
     "end_time": "2019-09-18T04:23:14.315554Z",
     "start_time": "2019-09-18T04:23:13.801958Z"
    }
   },
   "outputs": [
    {
     "name": "stdout",
     "output_type": "stream",
     "text": [
      "+-----------------+-----+\n",
      "|      Cruise_line|count|\n",
      "+-----------------+-----+\n",
      "|            Costa|   11|\n",
      "|              P&O|    6|\n",
      "|           Cunard|    3|\n",
      "|Regent_Seven_Seas|    5|\n",
      "|              MSC|    8|\n",
      "|         Carnival|   22|\n",
      "|          Crystal|    2|\n",
      "|           Orient|    1|\n",
      "|         Princess|   17|\n",
      "|        Silversea|    4|\n",
      "|         Seabourn|    3|\n",
      "| Holland_American|   14|\n",
      "|         Windstar|    3|\n",
      "|           Disney|    2|\n",
      "|        Norwegian|   13|\n",
      "|          Oceania|    3|\n",
      "|          Azamara|    2|\n",
      "|        Celebrity|   10|\n",
      "|             Star|    6|\n",
      "|  Royal_Caribbean|   23|\n",
      "+-----------------+-----+\n",
      "\n"
     ]
    }
   ],
   "source": [
    "df.groupBy('Cruise_line').count().show()"
   ]
  },
  {
   "cell_type": "markdown",
   "metadata": {},
   "source": [
    "# String Indexing"
   ]
  },
  {
   "cell_type": "code",
   "execution_count": 31,
   "metadata": {
    "ExecuteTime": {
     "end_time": "2019-09-18T04:23:38.467105Z",
     "start_time": "2019-09-18T04:23:38.195062Z"
    }
   },
   "outputs": [
    {
     "name": "stdout",
     "output_type": "stream",
     "text": [
      "+-----------+-----------+---+------------------+----------+------+------+-----------------+----+-----------------+\n",
      "|  Ship_name|Cruise_line|Age|           Tonnage|passengers|length|cabins|passenger_density|crew|Cruise_line_index|\n",
      "+-----------+-----------+---+------------------+----------+------+------+-----------------+----+-----------------+\n",
      "|    Journey|    Azamara|  6|30.276999999999997|      6.94|  5.94|  3.55|            42.64|3.55|             16.0|\n",
      "|      Quest|    Azamara|  6|30.276999999999997|      6.94|  5.94|  3.55|            42.64|3.55|             16.0|\n",
      "|Celebration|   Carnival| 26|            47.262|     14.86|  7.22|  7.43|             31.8| 6.7|              1.0|\n",
      "|   Conquest|   Carnival| 11|             110.0|     29.74|  9.53| 14.88|            36.99|19.1|              1.0|\n",
      "|    Destiny|   Carnival| 17|           101.353|     26.42|  8.92| 13.21|            38.36|10.0|              1.0|\n",
      "|    Ecstasy|   Carnival| 22|            70.367|     20.52|  8.55|  10.2|            34.29| 9.2|              1.0|\n",
      "|    Elation|   Carnival| 15|            70.367|     20.52|  8.55|  10.2|            34.29| 9.2|              1.0|\n",
      "|    Fantasy|   Carnival| 23|            70.367|     20.56|  8.55| 10.22|            34.23| 9.2|              1.0|\n",
      "|Fascination|   Carnival| 19|            70.367|     20.52|  8.55|  10.2|            34.29| 9.2|              1.0|\n",
      "|    Freedom|   Carnival|  6|110.23899999999999|      37.0|  9.51| 14.87|            29.79|11.5|              1.0|\n",
      "|      Glory|   Carnival| 10|             110.0|     29.74|  9.51| 14.87|            36.99|11.6|              1.0|\n",
      "|    Holiday|   Carnival| 28|            46.052|     14.52|  7.27|  7.26|            31.72| 6.6|              1.0|\n",
      "|Imagination|   Carnival| 18|            70.367|     20.52|  8.55|  10.2|            34.29| 9.2|              1.0|\n",
      "|Inspiration|   Carnival| 17|            70.367|     20.52|  8.55|  10.2|            34.29| 9.2|              1.0|\n",
      "|     Legend|   Carnival| 11|              86.0|     21.24|  9.63| 10.62|            40.49| 9.3|              1.0|\n",
      "|   Liberty*|   Carnival|  8|             110.0|     29.74|  9.51| 14.87|            36.99|11.6|              1.0|\n",
      "|    Miracle|   Carnival|  9|              88.5|     21.24|  9.63| 10.62|            41.67|10.3|              1.0|\n",
      "|   Paradise|   Carnival| 15|            70.367|     20.52|  8.55|  10.2|            34.29| 9.2|              1.0|\n",
      "|      Pride|   Carnival| 12|              88.5|     21.24|  9.63| 11.62|            41.67| 9.3|              1.0|\n",
      "|  Sensation|   Carnival| 20|            70.367|     20.52|  8.55|  10.2|            34.29| 9.2|              1.0|\n",
      "+-----------+-----------+---+------------------+----------+------+------+-----------------+----+-----------------+\n",
      "only showing top 20 rows\n",
      "\n"
     ]
    }
   ],
   "source": [
    "from pyspark.ml import Pipeline\n",
    "from pyspark.ml.feature import StringIndexer\n",
    "\n",
    "indexers = [StringIndexer(inputCol=column, outputCol=column+\"_index\").fit(df)\n",
    "            for column in ['Cruise_line'] ]\n",
    "\n",
    "\n",
    "pipeline = Pipeline(stages=indexers)\n",
    "df = pipeline.fit(data).transform(df)\n",
    "\n",
    "df.show()"
   ]
  },
  {
   "cell_type": "code",
   "execution_count": 48,
   "metadata": {
    "ExecuteTime": {
     "end_time": "2019-09-18T04:26:07.659800Z",
     "start_time": "2019-09-18T04:26:07.655789Z"
    }
   },
   "outputs": [
    {
     "name": "stdout",
     "output_type": "stream",
     "text": [
      "['Ship_name', 'Cruise_line', 'Age', 'Tonnage', 'passengers', 'length', 'cabins', 'passenger_density', 'crew', 'Cruise_line_index']\n"
     ]
    }
   ],
   "source": [
    "print(df.columns)"
   ]
  },
  {
   "cell_type": "markdown",
   "metadata": {},
   "source": [
    "# Use VectorAssembler to get final data"
   ]
  },
  {
   "cell_type": "code",
   "execution_count": 8,
   "metadata": {
    "ExecuteTime": {
     "end_time": "2019-09-18T04:15:45.748538Z",
     "start_time": "2019-09-18T04:15:45.729792Z"
    }
   },
   "outputs": [],
   "source": [
    "inputCols = ['Age', 'Tonnage', 'passengers', 'length',\n",
    "             'cabins', 'passenger_density', 'Cruise_line_index', 'crew']\n",
    "assembler = VectorAssembler(inputCols=inputCols, outputCol='features')"
   ]
  },
  {
   "cell_type": "code",
   "execution_count": 32,
   "metadata": {
    "ExecuteTime": {
     "end_time": "2019-09-18T04:24:14.174299Z",
     "start_time": "2019-09-18T04:24:14.086453Z"
    }
   },
   "outputs": [],
   "source": [
    "output = assembler.transform(df)"
   ]
  },
  {
   "cell_type": "code",
   "execution_count": 33,
   "metadata": {
    "ExecuteTime": {
     "end_time": "2019-09-18T04:24:16.807847Z",
     "start_time": "2019-09-18T04:24:16.797487Z"
    }
   },
   "outputs": [
    {
     "name": "stdout",
     "output_type": "stream",
     "text": [
      "root\n",
      " |-- Ship_name: string (nullable = true)\n",
      " |-- Cruise_line: string (nullable = true)\n",
      " |-- Age: integer (nullable = true)\n",
      " |-- Tonnage: double (nullable = true)\n",
      " |-- passengers: double (nullable = true)\n",
      " |-- length: double (nullable = true)\n",
      " |-- cabins: double (nullable = true)\n",
      " |-- passenger_density: double (nullable = true)\n",
      " |-- crew: double (nullable = true)\n",
      " |-- Cruise_line_index: double (nullable = false)\n",
      " |-- features: vector (nullable = true)\n",
      "\n"
     ]
    }
   ],
   "source": [
    "output.printSchema()"
   ]
  },
  {
   "cell_type": "code",
   "execution_count": 49,
   "metadata": {
    "ExecuteTime": {
     "end_time": "2019-09-18T04:27:21.621514Z",
     "start_time": "2019-09-18T04:27:21.459208Z"
    }
   },
   "outputs": [
    {
     "name": "stdout",
     "output_type": "stream",
     "text": [
      "+--------------------+----+\n",
      "|            features|crew|\n",
      "+--------------------+----+\n",
      "|[6.0,30.276999999...|3.55|\n",
      "|[6.0,30.276999999...|3.55|\n",
      "+--------------------+----+\n",
      "only showing top 2 rows\n",
      "\n"
     ]
    }
   ],
   "source": [
    "output.select('features', 'crew').show(2)"
   ]
  },
  {
   "cell_type": "code",
   "execution_count": 36,
   "metadata": {
    "ExecuteTime": {
     "end_time": "2019-09-18T04:24:23.793021Z",
     "start_time": "2019-09-18T04:24:23.659431Z"
    }
   },
   "outputs": [
    {
     "name": "stdout",
     "output_type": "stream",
     "text": [
      "+--------------------+----+\n",
      "|            features|crew|\n",
      "+--------------------+----+\n",
      "|[6.0,30.276999999...|3.55|\n",
      "|[6.0,30.276999999...|3.55|\n",
      "+--------------------+----+\n",
      "only showing top 2 rows\n",
      "\n"
     ]
    }
   ],
   "source": [
    "labelCol = 'crew'\n",
    "final_data = output.select('features', labelCol)\n",
    "final_data.show(2)"
   ]
  },
  {
   "cell_type": "markdown",
   "metadata": {},
   "source": [
    "# train test split"
   ]
  },
  {
   "cell_type": "code",
   "execution_count": 50,
   "metadata": {
    "ExecuteTime": {
     "end_time": "2019-09-18T04:27:57.367199Z",
     "start_time": "2019-09-18T04:27:57.153805Z"
    }
   },
   "outputs": [
    {
     "name": "stdout",
     "output_type": "stream",
     "text": [
      "+-------+------------------+\n",
      "|summary|              crew|\n",
      "+-------+------------------+\n",
      "|  count|               111|\n",
      "|   mean|  7.71774774774776|\n",
      "| stddev|3.7361892799736913|\n",
      "|    min|              0.59|\n",
      "|    max|              21.0|\n",
      "+-------+------------------+\n",
      "\n"
     ]
    }
   ],
   "source": [
    "train_data, test_data = final_data.randomSplit([0.7, 0.3])\n",
    "train_data.describe().show()"
   ]
  },
  {
   "cell_type": "code",
   "execution_count": 51,
   "metadata": {
    "ExecuteTime": {
     "end_time": "2019-09-18T04:28:08.504834Z",
     "start_time": "2019-09-18T04:28:08.299933Z"
    }
   },
   "outputs": [
    {
     "name": "stdout",
     "output_type": "stream",
     "text": [
      "+-------+------------------+\n",
      "|summary|              crew|\n",
      "+-------+------------------+\n",
      "|  count|                47|\n",
      "|   mean| 7.974680851063829|\n",
      "| stddev|2.9095112775499885|\n",
      "|    min|              2.11|\n",
      "|    max|              13.6|\n",
      "+-------+------------------+\n",
      "\n"
     ]
    }
   ],
   "source": [
    "test_data.describe().show()"
   ]
  },
  {
   "cell_type": "markdown",
   "metadata": {},
   "source": [
    "# Build the model"
   ]
  },
  {
   "cell_type": "code",
   "execution_count": 38,
   "metadata": {
    "ExecuteTime": {
     "end_time": "2019-09-18T04:24:28.705223Z",
     "start_time": "2019-09-18T04:24:28.688543Z"
    }
   },
   "outputs": [],
   "source": [
    "lr = LinearRegression(labelCol=labelCol)"
   ]
  },
  {
   "cell_type": "code",
   "execution_count": 39,
   "metadata": {
    "ExecuteTime": {
     "end_time": "2019-09-18T04:24:30.093921Z",
     "start_time": "2019-09-18T04:24:29.399105Z"
    }
   },
   "outputs": [],
   "source": [
    "lr_model = lr.fit(train_data)"
   ]
  },
  {
   "cell_type": "markdown",
   "metadata": {},
   "source": [
    "# Evaluate the model"
   ]
  },
  {
   "cell_type": "code",
   "execution_count": 40,
   "metadata": {
    "ExecuteTime": {
     "end_time": "2019-09-18T04:24:33.045770Z",
     "start_time": "2019-09-18T04:24:32.712222Z"
    }
   },
   "outputs": [],
   "source": [
    "test_results = lr_model.evaluate(test_data)"
   ]
  },
  {
   "cell_type": "code",
   "execution_count": 41,
   "metadata": {
    "ExecuteTime": {
     "end_time": "2019-09-18T04:24:34.840273Z",
     "start_time": "2019-09-18T04:24:34.653326Z"
    }
   },
   "outputs": [
    {
     "name": "stdout",
     "output_type": "stream",
     "text": [
      "+--------------------+\n",
      "|           residuals|\n",
      "+--------------------+\n",
      "|2.486899575160350...|\n",
      "|-3.55271367880050...|\n",
      "|-2.57571741713036...|\n",
      "|1.598721155460225...|\n",
      "|1.598721155460225...|\n",
      "|-8.88178419700125...|\n",
      "|-1.95399252334027...|\n",
      "|5.329070518200751...|\n",
      "|-7.10542735760100...|\n",
      "|7.105427357601002...|\n",
      "|-3.55271367880050...|\n",
      "|3.552713678800501...|\n",
      "|-1.77635683940025...|\n",
      "|-2.75335310107038...|\n",
      "|5.240252676230739...|\n",
      "|-3.55271367880050...|\n",
      "|-1.77635683940025...|\n",
      "|-1.77635683940025...|\n",
      "|                 0.0|\n",
      "|3.552713678800501...|\n",
      "+--------------------+\n",
      "only showing top 20 rows\n",
      "\n"
     ]
    }
   ],
   "source": [
    "test_results.residuals.show()"
   ]
  },
  {
   "cell_type": "code",
   "execution_count": 42,
   "metadata": {
    "ExecuteTime": {
     "end_time": "2019-09-18T04:24:35.277035Z",
     "start_time": "2019-09-18T04:24:35.267010Z"
    }
   },
   "outputs": [
    {
     "data": {
      "text/plain": [
       "2.2701904826307156e-14"
      ]
     },
     "execution_count": 42,
     "metadata": {},
     "output_type": "execute_result"
    }
   ],
   "source": [
    "test_results.rootMeanSquaredError"
   ]
  },
  {
   "cell_type": "code",
   "execution_count": 52,
   "metadata": {
    "ExecuteTime": {
     "end_time": "2019-09-18T04:30:09.565757Z",
     "start_time": "2019-09-18T04:30:09.559094Z"
    }
   },
   "outputs": [
    {
     "data": {
      "text/plain": [
       "1.0"
      ]
     },
     "execution_count": 52,
     "metadata": {},
     "output_type": "execute_result"
    }
   ],
   "source": [
    "test_results.r2"
   ]
  },
  {
   "cell_type": "code",
   "execution_count": 54,
   "metadata": {
    "ExecuteTime": {
     "end_time": "2019-09-18T04:32:11.936780Z",
     "start_time": "2019-09-18T04:32:11.741709Z"
    }
   },
   "outputs": [
    {
     "name": "stdout",
     "output_type": "stream",
     "text": [
      "+-------+------------------+\n",
      "|summary|              crew|\n",
      "+-------+------------------+\n",
      "|  count|               111|\n",
      "|   mean|  7.71774774774776|\n",
      "| stddev|3.7361892799736913|\n",
      "|    min|              0.59|\n",
      "|    max|              21.0|\n",
      "+-------+------------------+\n",
      "\n"
     ]
    }
   ],
   "source": [
    "train_data.describe().show()"
   ]
  },
  {
   "cell_type": "code",
   "execution_count": 55,
   "metadata": {
    "ExecuteTime": {
     "end_time": "2019-09-18T04:32:24.340233Z",
     "start_time": "2019-09-18T04:32:24.332211Z"
    }
   },
   "outputs": [
    {
     "data": {
      "text/plain": [
       "5.153764827427081e-28"
      ]
     },
     "execution_count": 55,
     "metadata": {},
     "output_type": "execute_result"
    }
   ],
   "source": [
    "test_results.meanSquaredError"
   ]
  },
  {
   "cell_type": "markdown",
   "metadata": {},
   "source": [
    "# Test predictions"
   ]
  },
  {
   "cell_type": "code",
   "execution_count": 44,
   "metadata": {
    "ExecuteTime": {
     "end_time": "2019-09-18T04:24:37.961707Z",
     "start_time": "2019-09-18T04:24:37.768837Z"
    }
   },
   "outputs": [
    {
     "name": "stdout",
     "output_type": "stream",
     "text": [
      "+--------------------+\n",
      "|            features|\n",
      "+--------------------+\n",
      "|[5.0,133.5,39.59,...|\n",
      "|[5.0,160.0,36.34,...|\n",
      "|[6.0,30.276999999...|\n",
      "|[6.0,158.0,43.7,1...|\n",
      "|[7.0,89.6,25.5,9....|\n",
      "|[8.0,91.0,22.44,9...|\n",
      "|[9.0,59.058,17.0,...|\n",
      "|[9.0,90.09,25.01,...|\n",
      "|[9.0,105.0,27.2,8...|\n",
      "|[10.0,86.0,21.14,...|\n",
      "|[10.0,138.0,31.14...|\n",
      "|[11.0,91.62700000...|\n",
      "|[11.0,138.0,31.14...|\n",
      "|[12.0,42.0,14.8,7...|\n",
      "|[12.0,50.0,7.0,7....|\n",
      "|[12.0,88.5,21.24,...|\n",
      "|[12.0,91.0,20.32,...|\n",
      "|[12.0,91.0,20.32,...|\n",
      "|[12.0,138.0,31.14...|\n",
      "|[13.0,63.0,14.4,7...|\n",
      "+--------------------+\n",
      "only showing top 20 rows\n",
      "\n"
     ]
    }
   ],
   "source": [
    "unlabeled_data = test_data.select('features')\n",
    "unlabeled_data.show()"
   ]
  },
  {
   "cell_type": "code",
   "execution_count": 45,
   "metadata": {
    "ExecuteTime": {
     "end_time": "2019-09-18T04:24:38.654737Z",
     "start_time": "2019-09-18T04:24:38.446698Z"
    }
   },
   "outputs": [
    {
     "name": "stdout",
     "output_type": "stream",
     "text": [
      "+--------------------+------------------+\n",
      "|            features|        prediction|\n",
      "+--------------------+------------------+\n",
      "|[5.0,133.5,39.59,...|13.129999999999976|\n",
      "|[5.0,160.0,36.34,...|13.600000000000003|\n",
      "|[6.0,30.276999999...|3.5500000000000256|\n",
      "|[6.0,158.0,43.7,1...|13.599999999999984|\n",
      "|[7.0,89.6,25.5,9....| 9.869999999999983|\n",
      "|[8.0,91.0,22.44,9...|11.000000000000009|\n",
      "|[9.0,59.058,17.0,...|  7.40000000000002|\n",
      "|[9.0,90.09,25.01,...| 8.689999999999994|\n",
      "|[9.0,105.0,27.2,8...|10.680000000000007|\n",
      "|[10.0,86.0,21.14,...| 9.199999999999992|\n",
      "|[10.0,138.0,31.14...|11.850000000000003|\n",
      "|[11.0,91.62700000...| 8.999999999999996|\n",
      "|[11.0,138.0,31.14...|11.850000000000001|\n",
      "|[12.0,42.0,14.8,7...| 6.800000000000027|\n",
      "|[12.0,50.0,7.0,7....| 4.449999999999948|\n",
      "|[12.0,88.5,21.24,...|10.290000000000003|\n",
      "|[12.0,91.0,20.32,...| 9.990000000000002|\n",
      "|[12.0,91.0,20.32,...| 9.990000000000002|\n",
      "|[12.0,138.0,31.14...|             11.85|\n",
      "|[13.0,63.0,14.4,7...| 5.309999999999996|\n",
      "+--------------------+------------------+\n",
      "only showing top 20 rows\n",
      "\n"
     ]
    }
   ],
   "source": [
    "preds = lr_model.transform(unlabeled_data)\n",
    "preds.show()"
   ]
  },
  {
   "cell_type": "markdown",
   "metadata": {},
   "source": [
    "# Check corrrelations"
   ]
  },
  {
   "cell_type": "code",
   "execution_count": 56,
   "metadata": {
    "ExecuteTime": {
     "end_time": "2019-09-18T04:33:40.818908Z",
     "start_time": "2019-09-18T04:33:40.813427Z"
    }
   },
   "outputs": [],
   "source": [
    "from pyspark.sql.functions import corr"
   ]
  },
  {
   "cell_type": "code",
   "execution_count": 58,
   "metadata": {
    "ExecuteTime": {
     "end_time": "2019-09-18T04:34:12.902138Z",
     "start_time": "2019-09-18T04:34:12.725664Z"
    }
   },
   "outputs": [
    {
     "name": "stdout",
     "output_type": "stream",
     "text": [
      "+----------------------+\n",
      "|corr(crew, passengers)|\n",
      "+----------------------+\n",
      "|    0.9152341306065384|\n",
      "+----------------------+\n",
      "\n"
     ]
    }
   ],
   "source": [
    "df.select( corr('crew','passengers')).show()"
   ]
  },
  {
   "cell_type": "code",
   "execution_count": 59,
   "metadata": {
    "ExecuteTime": {
     "end_time": "2019-09-18T04:35:17.335458Z",
     "start_time": "2019-09-18T04:35:17.159673Z"
    }
   },
   "outputs": [
    {
     "name": "stdout",
     "output_type": "stream",
     "text": [
      "+------------------+\n",
      "|corr(crew, cabins)|\n",
      "+------------------+\n",
      "|0.9508226063578497|\n",
      "+------------------+\n",
      "\n"
     ]
    }
   ],
   "source": [
    "df.select( corr('crew','cabins')).show()"
   ]
  },
  {
   "cell_type": "code",
   "execution_count": null,
   "metadata": {},
   "outputs": [],
   "source": []
  }
 ],
 "metadata": {
  "kernelspec": {
   "display_name": "Python (spk)",
   "language": "python",
   "name": "spk"
  },
  "language_info": {
   "codemirror_mode": {
    "name": "ipython",
    "version": 3
   },
   "file_extension": ".py",
   "mimetype": "text/x-python",
   "name": "python",
   "nbconvert_exporter": "python",
   "pygments_lexer": "ipython3",
   "version": "3.7.4"
  },
  "toc": {
   "base_numbering": 1,
   "nav_menu": {},
   "number_sections": true,
   "sideBar": true,
   "skip_h1_title": false,
   "title_cell": "Table of Contents",
   "title_sidebar": "Contents",
   "toc_cell": true,
   "toc_position": {},
   "toc_section_display": true,
   "toc_window_display": true
  }
 },
 "nbformat": 4,
 "nbformat_minor": 2
}
