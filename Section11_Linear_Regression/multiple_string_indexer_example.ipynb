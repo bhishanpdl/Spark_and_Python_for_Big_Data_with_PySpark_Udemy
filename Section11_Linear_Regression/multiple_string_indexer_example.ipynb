{
 "cells": [
  {
   "cell_type": "markdown",
   "metadata": {
    "toc": true
   },
   "source": [
    "<h1>Table of Contents<span class=\"tocSkip\"></span></h1>\n",
    "<div class=\"toc\"><ul class=\"toc-item\"><li><span><a href=\"#StringIndexer-for-multiple-columns\" data-toc-modified-id=\"StringIndexer-for-multiple-columns-1\"><span class=\"toc-item-num\">1&nbsp;&nbsp;</span>StringIndexer for multiple columns</a></span></li></ul></div>"
   ]
  },
  {
   "cell_type": "code",
   "execution_count": 1,
   "metadata": {
    "ExecuteTime": {
     "end_time": "2019-09-18T02:59:53.476377Z",
     "start_time": "2019-09-18T02:59:49.517354Z"
    }
   },
   "outputs": [
    {
     "name": "stdout",
     "output_type": "stream",
     "text": [
      "[('numpy', '1.17.1'), ('pandas', '0.25.1'), ('pyspark', '2.4.4')]\n"
     ]
    }
   ],
   "source": [
    "import numpy as np\n",
    "import pandas as pd\n",
    "import pyspark\n",
    "from pyspark import SparkConf, SparkContext, SQLContext\n",
    "from pyspark.sql import SparkSession\n",
    "from pyspark.sql.functions import udf # @udf(\"integer\") def myfunc(x,y): return x - y\n",
    "from pyspark.sql import functions as F # stddev format_number date_format, dayofyear, when\n",
    "from pyspark.sql.types import StructField, StringType, IntegerType, StructType\n",
    "\n",
    "print([(x.__name__,x.__version__) for x in [np, pd, pyspark]])\n",
    "\n",
    "spark = pyspark.sql.SparkSession.builder.appName('example').getOrCreate()\n",
    "sc = spark.sparkContext\n",
    "sqlContext = SQLContext(sc)\n",
    "sc.setLogLevel(\"INFO\")"
   ]
  },
  {
   "cell_type": "code",
   "execution_count": 2,
   "metadata": {
    "ExecuteTime": {
     "end_time": "2019-09-18T03:00:18.933274Z",
     "start_time": "2019-09-18T03:00:18.866062Z"
    }
   },
   "outputs": [],
   "source": [
    "from pyspark.ml.linalg import Vectors\n",
    "from pyspark.ml.feature import VectorAssembler\n",
    "\n",
    "from pyspark.ml import Pipeline\n",
    "from pyspark.ml.feature import StringIndexer\n",
    "\n",
    "from pyspark.ml.regression import LinearRegression"
   ]
  },
  {
   "cell_type": "markdown",
   "metadata": {},
   "source": [
    "# StringIndexer for multiple columns\n",
    "https://stackoverflow.com/questions/36942233/apply-stringindexer-to-several-columns-in-a-pyspark-dataframe"
   ]
  },
  {
   "cell_type": "code",
   "execution_count": 79,
   "metadata": {
    "ExecuteTime": {
     "end_time": "2019-09-18T04:00:14.597940Z",
     "start_time": "2019-09-18T04:00:14.579046Z"
    }
   },
   "outputs": [
    {
     "data": {
      "text/html": [
       "<div>\n",
       "<style scoped>\n",
       "    .dataframe tbody tr th:only-of-type {\n",
       "        vertical-align: middle;\n",
       "    }\n",
       "\n",
       "    .dataframe tbody tr th {\n",
       "        vertical-align: top;\n",
       "    }\n",
       "\n",
       "    .dataframe thead th {\n",
       "        text-align: right;\n",
       "    }\n",
       "</style>\n",
       "<table border=\"1\" class=\"dataframe\">\n",
       "  <thead>\n",
       "    <tr style=\"text-align: right;\">\n",
       "      <th></th>\n",
       "      <th>address</th>\n",
       "      <th>date</th>\n",
       "      <th>name</th>\n",
       "      <th>food</th>\n",
       "    </tr>\n",
       "  </thead>\n",
       "  <tbody>\n",
       "    <tr>\n",
       "      <td>0</td>\n",
       "      <td>1111111</td>\n",
       "      <td>20151122045510</td>\n",
       "      <td>Yin</td>\n",
       "      <td>gre</td>\n",
       "    </tr>\n",
       "    <tr>\n",
       "      <td>1</td>\n",
       "      <td>1111111</td>\n",
       "      <td>20151122045501</td>\n",
       "      <td>Yin</td>\n",
       "      <td>gre</td>\n",
       "    </tr>\n",
       "    <tr>\n",
       "      <td>2</td>\n",
       "      <td>1111111</td>\n",
       "      <td>20151122045500</td>\n",
       "      <td>Yln</td>\n",
       "      <td>gra</td>\n",
       "    </tr>\n",
       "    <tr>\n",
       "      <td>3</td>\n",
       "      <td>1111112</td>\n",
       "      <td>20151122065832</td>\n",
       "      <td>Yun</td>\n",
       "      <td>ddd</td>\n",
       "    </tr>\n",
       "    <tr>\n",
       "      <td>4</td>\n",
       "      <td>1111113</td>\n",
       "      <td>20160101003221</td>\n",
       "      <td>Yan</td>\n",
       "      <td>fdf</td>\n",
       "    </tr>\n",
       "    <tr>\n",
       "      <td>5</td>\n",
       "      <td>1111111</td>\n",
       "      <td>20160703045231</td>\n",
       "      <td>Yin</td>\n",
       "      <td>gre</td>\n",
       "    </tr>\n",
       "    <tr>\n",
       "      <td>6</td>\n",
       "      <td>1111114</td>\n",
       "      <td>20150419134543</td>\n",
       "      <td>Yin</td>\n",
       "      <td>fdf</td>\n",
       "    </tr>\n",
       "    <tr>\n",
       "      <td>7</td>\n",
       "      <td>1111115</td>\n",
       "      <td>20151123174302</td>\n",
       "      <td>Yen</td>\n",
       "      <td>ddd</td>\n",
       "    </tr>\n",
       "    <tr>\n",
       "      <td>8</td>\n",
       "      <td>2111115</td>\n",
       "      <td>20123192</td>\n",
       "      <td>Yen</td>\n",
       "      <td>gre</td>\n",
       "    </tr>\n",
       "  </tbody>\n",
       "</table>\n",
       "</div>"
      ],
      "text/plain": [
       "   address            date name food\n",
       "0  1111111  20151122045510  Yin  gre\n",
       "1  1111111  20151122045501  Yin  gre\n",
       "2  1111111  20151122045500  Yln  gra\n",
       "3  1111112  20151122065832  Yun  ddd\n",
       "4  1111113  20160101003221  Yan  fdf\n",
       "5  1111111  20160703045231  Yin  gre\n",
       "6  1111114  20150419134543  Yin  fdf\n",
       "7  1111115  20151123174302  Yen  ddd\n",
       "8  2111115        20123192  Yen  gre"
      ]
     },
     "execution_count": 79,
     "metadata": {},
     "output_type": "execute_result"
    }
   ],
   "source": [
    "df = pd.DataFrame({'address': [1111111, 1111111, 1111111, 1111112, 1111113,\n",
    "                               1111111, 1111114, 1111115, 2111115],\n",
    "          'date': [20151122045510, 20151122045501, 20151122045500,\n",
    "                   20151122065832, 20160101003221, 20160703045231,\n",
    "                   20150419134543, 20151123174302, 20123192],\n",
    "          'name': ['Yin', 'Yin', 'Yln', 'Yun', 'Yan', 'Yin', 'Yin', 'Yen', 'Yen'],\n",
    "          'food': ['gre', 'gre', 'gra', 'ddd', 'fdf', 'gre', 'fdf', 'ddd', 'gre']})\n",
    "df"
   ]
  },
  {
   "cell_type": "code",
   "execution_count": 80,
   "metadata": {
    "ExecuteTime": {
     "end_time": "2019-09-18T04:02:42.173725Z",
     "start_time": "2019-09-18T04:02:39.175288Z"
    }
   },
   "outputs": [
    {
     "name": "stdout",
     "output_type": "stream",
     "text": [
      "+-------+--------------+----+----+\n",
      "|address|          date|name|food|\n",
      "+-------+--------------+----+----+\n",
      "|1111111|20151122045510| Yin| gre|\n",
      "|1111111|20151122045501| Yin| gre|\n",
      "|1111111|20151122045500| Yln| gra|\n",
      "|1111112|20151122065832| Yun| ddd|\n",
      "|1111113|20160101003221| Yan| fdf|\n",
      "|1111111|20160703045231| Yin| gre|\n",
      "|1111114|20150419134543| Yin| fdf|\n",
      "|1111115|20151123174302| Yen| ddd|\n",
      "|2111115|      20123192| Yen| gre|\n",
      "+-------+--------------+----+----+\n",
      "\n"
     ]
    }
   ],
   "source": [
    "df = sqlContext.createDataFrame(df)\n",
    "df.show()"
   ]
  },
  {
   "cell_type": "code",
   "execution_count": 81,
   "metadata": {
    "ExecuteTime": {
     "end_time": "2019-09-18T04:03:50.928959Z",
     "start_time": "2019-09-18T04:03:49.471638Z"
    }
   },
   "outputs": [
    {
     "name": "stdout",
     "output_type": "stream",
     "text": [
      "+-------+--------------+----+----+-------------+----------+----------+\n",
      "|address|          date|name|food|address_index|food_index|name_index|\n",
      "+-------+--------------+----+----+-------------+----------+----------+\n",
      "|1111111|20151122045510| Yin| gre|          0.0|       0.0|       0.0|\n",
      "|1111111|20151122045501| Yin| gre|          0.0|       0.0|       0.0|\n",
      "|1111111|20151122045500| Yln| gra|          0.0|       3.0|       2.0|\n",
      "|1111112|20151122065832| Yun| ddd|          3.0|       2.0|       4.0|\n",
      "|1111113|20160101003221| Yan| fdf|          1.0|       1.0|       3.0|\n",
      "|1111111|20160703045231| Yin| gre|          0.0|       0.0|       0.0|\n",
      "|1111114|20150419134543| Yin| fdf|          5.0|       1.0|       0.0|\n",
      "|1111115|20151123174302| Yen| ddd|          2.0|       2.0|       1.0|\n",
      "|2111115|      20123192| Yen| gre|          4.0|       0.0|       1.0|\n",
      "+-------+--------------+----+----+-------------+----------+----------+\n",
      "\n"
     ]
    }
   ],
   "source": [
    "indexers = [StringIndexer(inputCol=column, outputCol=column+\"_index\").fit(df)\n",
    "            for column in list(set(df.columns)-set(['date'])) ]\n",
    "\n",
    "\n",
    "pipeline = Pipeline(stages=indexers)\n",
    "df_r = pipeline.fit(df).transform(df)\n",
    "\n",
    "df_r.show()"
   ]
  },
  {
   "cell_type": "code",
   "execution_count": 82,
   "metadata": {
    "ExecuteTime": {
     "end_time": "2019-09-18T04:07:01.889168Z",
     "start_time": "2019-09-18T04:07:01.641647Z"
    }
   },
   "outputs": [],
   "source": [
    "!open ."
   ]
  },
  {
   "cell_type": "code",
   "execution_count": null,
   "metadata": {},
   "outputs": [],
   "source": []
  }
 ],
 "metadata": {
  "kernelspec": {
   "display_name": "Python (spk)",
   "language": "python",
   "name": "spk"
  },
  "language_info": {
   "codemirror_mode": {
    "name": "ipython",
    "version": 3
   },
   "file_extension": ".py",
   "mimetype": "text/x-python",
   "name": "python",
   "nbconvert_exporter": "python",
   "pygments_lexer": "ipython3",
   "version": "3.7.4"
  },
  "toc": {
   "base_numbering": 1,
   "nav_menu": {},
   "number_sections": true,
   "sideBar": true,
   "skip_h1_title": false,
   "title_cell": "Table of Contents",
   "title_sidebar": "Contents",
   "toc_cell": true,
   "toc_position": {},
   "toc_section_display": true,
   "toc_window_display": true
  }
 },
 "nbformat": 4,
 "nbformat_minor": 2
}
