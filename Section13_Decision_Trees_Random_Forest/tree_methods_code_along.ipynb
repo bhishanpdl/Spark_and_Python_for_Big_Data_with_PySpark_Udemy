{
 "cells": [
  {
   "cell_type": "markdown",
   "metadata": {
    "toc": true
   },
   "source": [
    "<h1>Table of Contents<span class=\"tocSkip\"></span></h1>\n",
    "<div class=\"toc\"><ul class=\"toc-item\"><li><span><a href=\"#Load-data\" data-toc-modified-id=\"Load-data-1\"><span class=\"toc-item-num\">1&nbsp;&nbsp;</span>Load data</a></span></li><li><span><a href=\"#Look-at-data-types\" data-toc-modified-id=\"Look-at-data-types-2\"><span class=\"toc-item-num\">2&nbsp;&nbsp;</span>Look at data types</a></span><ul class=\"toc-item\"><li><span><a href=\"#categorical-values\" data-toc-modified-id=\"categorical-values-2.1\"><span class=\"toc-item-num\">2.1&nbsp;&nbsp;</span>categorical values</a></span></li></ul></li><li><span><a href=\"#Modelling\" data-toc-modified-id=\"Modelling-3\"><span class=\"toc-item-num\">3&nbsp;&nbsp;</span>Modelling</a></span></li><li><span><a href=\"#Model-Predictions\" data-toc-modified-id=\"Model-Predictions-4\"><span class=\"toc-item-num\">4&nbsp;&nbsp;</span>Model Predictions</a></span></li><li><span><a href=\"#Model-evaluation\" data-toc-modified-id=\"Model-evaluation-5\"><span class=\"toc-item-num\">5&nbsp;&nbsp;</span>Model evaluation</a></span></li></ul></div>"
   ]
  },
  {
   "cell_type": "code",
   "execution_count": 1,
   "metadata": {
    "ExecuteTime": {
     "end_time": "2019-09-19T04:08:28.383753Z",
     "start_time": "2019-09-19T04:08:24.693533Z"
    }
   },
   "outputs": [
    {
     "name": "stdout",
     "output_type": "stream",
     "text": [
      "[('numpy', '1.17.1'), ('pandas', '0.25.1'), ('pyspark', '2.4.4')]\n"
     ]
    }
   ],
   "source": [
    "import numpy as np\n",
    "import pandas as pd\n",
    "import pyspark\n",
    "from pyspark import SparkConf, SparkContext, SQLContext\n",
    "from pyspark.sql import SparkSession\n",
    "from pyspark.sql.functions import udf # @udf(\"integer\") def myfunc(x,y): return x - y\n",
    "from pyspark.sql import functions as F # stddev format_number date_format, dayofyear, when\n",
    "from pyspark.sql.types import StructField, StringType, IntegerType, StructType\n",
    "\n",
    "print([(x.__name__,x.__version__) for x in [np, pd, pyspark]])\n",
    "\n",
    "spark = pyspark.sql.SparkSession.builder.appName('tree').getOrCreate()\n",
    "sc = spark.sparkContext\n",
    "sqlContext = SQLContext(sc) # spark_df = sqlContext.createDataFrame(pandas_df)\n",
    "sc.setLogLevel(\"INFO\")"
   ]
  },
  {
   "cell_type": "code",
   "execution_count": 25,
   "metadata": {
    "ExecuteTime": {
     "end_time": "2019-09-19T04:12:30.330935Z",
     "start_time": "2019-09-19T04:12:30.326615Z"
    }
   },
   "outputs": [],
   "source": [
    "from pyspark.ml.feature import StringIndexer, VectorIndexer,OneHotEncoder\n",
    "from pyspark.ml.feature import VectorAssembler\n",
    "from pyspark.ml import Pipeline\n",
    "\n",
    "from pyspark.ml.regression import LinearRegression\n",
    "from pyspark.ml.regression import DecisionTreeRegressor\n",
    "from pyspark.ml.regression import RandomForestRegressor\n",
    "from pyspark.ml.regression import GBTRegressor\n",
    "\n",
    "from pyspark.ml.classification import LogisticRegression\n",
    "from pyspark.ml.classification import DecisionTreeClassifier\n",
    "from pyspark.ml.classification import RandomForestClassifier\n",
    "from pyspark.ml.classification import GBTClassifier\n",
    "\n",
    "from pyspark.ml.evaluation import BinaryClassificationEvaluator\n",
    "from pyspark.ml.evaluation import MulticlassClassificationEvaluator"
   ]
  },
  {
   "cell_type": "markdown",
   "metadata": {},
   "source": [
    "# Load data"
   ]
  },
  {
   "cell_type": "code",
   "execution_count": 3,
   "metadata": {
    "ExecuteTime": {
     "end_time": "2019-09-19T04:08:28.648262Z",
     "start_time": "2019-09-19T04:08:28.520699Z"
    }
   },
   "outputs": [
    {
     "name": "stdout",
     "output_type": "stream",
     "text": [
      "School,Private,Apps,Accept,Enroll,Top10perc,Top25perc,F_Undergrad,P_Undergrad,Outstate,Room_Board,Books,Personal,PhD,Terminal,S_F_Ratio,perc_alumni,Expend,Grad_Rate\r",
      "\r\n",
      "Abilene Christian University,Yes,1660,1232,721,23,52,2885,537,7440,3300,450,2200,70,78,18.1,12,7041,60\r",
      "\r\n"
     ]
    }
   ],
   "source": [
    "!head -2 ../data/College.csv"
   ]
  },
  {
   "cell_type": "code",
   "execution_count": 4,
   "metadata": {
    "ExecuteTime": {
     "end_time": "2019-09-19T04:08:32.989343Z",
     "start_time": "2019-09-19T04:08:28.650382Z"
    }
   },
   "outputs": [
    {
     "name": "stdout",
     "output_type": "stream",
     "text": [
      "777\n",
      "root\n",
      " |-- School: string (nullable = true)\n",
      " |-- Private: string (nullable = true)\n",
      " |-- Apps: integer (nullable = true)\n",
      " |-- Accept: integer (nullable = true)\n",
      " |-- Enroll: integer (nullable = true)\n",
      " |-- Top10perc: integer (nullable = true)\n",
      " |-- Top25perc: integer (nullable = true)\n",
      " |-- F_Undergrad: integer (nullable = true)\n",
      " |-- P_Undergrad: integer (nullable = true)\n",
      " |-- Outstate: integer (nullable = true)\n",
      " |-- Room_Board: integer (nullable = true)\n",
      " |-- Books: integer (nullable = true)\n",
      " |-- Personal: integer (nullable = true)\n",
      " |-- PhD: integer (nullable = true)\n",
      " |-- Terminal: integer (nullable = true)\n",
      " |-- S_F_Ratio: double (nullable = true)\n",
      " |-- perc_alumni: integer (nullable = true)\n",
      " |-- Expend: integer (nullable = true)\n",
      " |-- Grad_Rate: integer (nullable = true)\n",
      "\n",
      "None\n"
     ]
    },
    {
     "data": {
      "text/html": [
       "<div>\n",
       "<style scoped>\n",
       "    .dataframe tbody tr th:only-of-type {\n",
       "        vertical-align: middle;\n",
       "    }\n",
       "\n",
       "    .dataframe tbody tr th {\n",
       "        vertical-align: top;\n",
       "    }\n",
       "\n",
       "    .dataframe thead th {\n",
       "        text-align: right;\n",
       "    }\n",
       "</style>\n",
       "<table border=\"1\" class=\"dataframe\">\n",
       "  <thead>\n",
       "    <tr style=\"text-align: right;\">\n",
       "      <th></th>\n",
       "      <th>0</th>\n",
       "      <th>1</th>\n",
       "      <th>2</th>\n",
       "      <th>3</th>\n",
       "      <th>4</th>\n",
       "    </tr>\n",
       "  </thead>\n",
       "  <tbody>\n",
       "    <tr>\n",
       "      <td>School</td>\n",
       "      <td>Abilene Christian University</td>\n",
       "      <td>Adelphi University</td>\n",
       "      <td>Adrian College</td>\n",
       "      <td>Agnes Scott College</td>\n",
       "      <td>Alaska Pacific University</td>\n",
       "    </tr>\n",
       "    <tr>\n",
       "      <td>Private</td>\n",
       "      <td>Yes</td>\n",
       "      <td>Yes</td>\n",
       "      <td>Yes</td>\n",
       "      <td>Yes</td>\n",
       "      <td>Yes</td>\n",
       "    </tr>\n",
       "    <tr>\n",
       "      <td>Apps</td>\n",
       "      <td>1660</td>\n",
       "      <td>2186</td>\n",
       "      <td>1428</td>\n",
       "      <td>417</td>\n",
       "      <td>193</td>\n",
       "    </tr>\n",
       "    <tr>\n",
       "      <td>Accept</td>\n",
       "      <td>1232</td>\n",
       "      <td>1924</td>\n",
       "      <td>1097</td>\n",
       "      <td>349</td>\n",
       "      <td>146</td>\n",
       "    </tr>\n",
       "    <tr>\n",
       "      <td>Enroll</td>\n",
       "      <td>721</td>\n",
       "      <td>512</td>\n",
       "      <td>336</td>\n",
       "      <td>137</td>\n",
       "      <td>55</td>\n",
       "    </tr>\n",
       "    <tr>\n",
       "      <td>Top10perc</td>\n",
       "      <td>23</td>\n",
       "      <td>16</td>\n",
       "      <td>22</td>\n",
       "      <td>60</td>\n",
       "      <td>16</td>\n",
       "    </tr>\n",
       "    <tr>\n",
       "      <td>Top25perc</td>\n",
       "      <td>52</td>\n",
       "      <td>29</td>\n",
       "      <td>50</td>\n",
       "      <td>89</td>\n",
       "      <td>44</td>\n",
       "    </tr>\n",
       "    <tr>\n",
       "      <td>F_Undergrad</td>\n",
       "      <td>2885</td>\n",
       "      <td>2683</td>\n",
       "      <td>1036</td>\n",
       "      <td>510</td>\n",
       "      <td>249</td>\n",
       "    </tr>\n",
       "    <tr>\n",
       "      <td>P_Undergrad</td>\n",
       "      <td>537</td>\n",
       "      <td>1227</td>\n",
       "      <td>99</td>\n",
       "      <td>63</td>\n",
       "      <td>869</td>\n",
       "    </tr>\n",
       "    <tr>\n",
       "      <td>Outstate</td>\n",
       "      <td>7440</td>\n",
       "      <td>12280</td>\n",
       "      <td>11250</td>\n",
       "      <td>12960</td>\n",
       "      <td>7560</td>\n",
       "    </tr>\n",
       "    <tr>\n",
       "      <td>Room_Board</td>\n",
       "      <td>3300</td>\n",
       "      <td>6450</td>\n",
       "      <td>3750</td>\n",
       "      <td>5450</td>\n",
       "      <td>4120</td>\n",
       "    </tr>\n",
       "    <tr>\n",
       "      <td>Books</td>\n",
       "      <td>450</td>\n",
       "      <td>750</td>\n",
       "      <td>400</td>\n",
       "      <td>450</td>\n",
       "      <td>800</td>\n",
       "    </tr>\n",
       "    <tr>\n",
       "      <td>Personal</td>\n",
       "      <td>2200</td>\n",
       "      <td>1500</td>\n",
       "      <td>1165</td>\n",
       "      <td>875</td>\n",
       "      <td>1500</td>\n",
       "    </tr>\n",
       "    <tr>\n",
       "      <td>PhD</td>\n",
       "      <td>70</td>\n",
       "      <td>29</td>\n",
       "      <td>53</td>\n",
       "      <td>92</td>\n",
       "      <td>76</td>\n",
       "    </tr>\n",
       "    <tr>\n",
       "      <td>Terminal</td>\n",
       "      <td>78</td>\n",
       "      <td>30</td>\n",
       "      <td>66</td>\n",
       "      <td>97</td>\n",
       "      <td>72</td>\n",
       "    </tr>\n",
       "    <tr>\n",
       "      <td>S_F_Ratio</td>\n",
       "      <td>18.1</td>\n",
       "      <td>12.2</td>\n",
       "      <td>12.9</td>\n",
       "      <td>7.7</td>\n",
       "      <td>11.9</td>\n",
       "    </tr>\n",
       "    <tr>\n",
       "      <td>perc_alumni</td>\n",
       "      <td>12</td>\n",
       "      <td>16</td>\n",
       "      <td>30</td>\n",
       "      <td>37</td>\n",
       "      <td>2</td>\n",
       "    </tr>\n",
       "    <tr>\n",
       "      <td>Expend</td>\n",
       "      <td>7041</td>\n",
       "      <td>10527</td>\n",
       "      <td>8735</td>\n",
       "      <td>19016</td>\n",
       "      <td>10922</td>\n",
       "    </tr>\n",
       "    <tr>\n",
       "      <td>Grad_Rate</td>\n",
       "      <td>60</td>\n",
       "      <td>56</td>\n",
       "      <td>54</td>\n",
       "      <td>59</td>\n",
       "      <td>15</td>\n",
       "    </tr>\n",
       "  </tbody>\n",
       "</table>\n",
       "</div>"
      ],
      "text/plain": [
       "                                        0                   1               2  \\\n",
       "School       Abilene Christian University  Adelphi University  Adrian College   \n",
       "Private                               Yes                 Yes             Yes   \n",
       "Apps                                 1660                2186            1428   \n",
       "Accept                               1232                1924            1097   \n",
       "Enroll                                721                 512             336   \n",
       "Top10perc                              23                  16              22   \n",
       "Top25perc                              52                  29              50   \n",
       "F_Undergrad                          2885                2683            1036   \n",
       "P_Undergrad                           537                1227              99   \n",
       "Outstate                             7440               12280           11250   \n",
       "Room_Board                           3300                6450            3750   \n",
       "Books                                 450                 750             400   \n",
       "Personal                             2200                1500            1165   \n",
       "PhD                                    70                  29              53   \n",
       "Terminal                               78                  30              66   \n",
       "S_F_Ratio                            18.1                12.2            12.9   \n",
       "perc_alumni                            12                  16              30   \n",
       "Expend                               7041               10527            8735   \n",
       "Grad_Rate                              60                  56              54   \n",
       "\n",
       "                               3                          4  \n",
       "School       Agnes Scott College  Alaska Pacific University  \n",
       "Private                      Yes                        Yes  \n",
       "Apps                         417                        193  \n",
       "Accept                       349                        146  \n",
       "Enroll                       137                         55  \n",
       "Top10perc                     60                         16  \n",
       "Top25perc                     89                         44  \n",
       "F_Undergrad                  510                        249  \n",
       "P_Undergrad                   63                        869  \n",
       "Outstate                   12960                       7560  \n",
       "Room_Board                  5450                       4120  \n",
       "Books                        450                        800  \n",
       "Personal                     875                       1500  \n",
       "PhD                           92                         76  \n",
       "Terminal                      97                         72  \n",
       "S_F_Ratio                    7.7                       11.9  \n",
       "perc_alumni                   37                          2  \n",
       "Expend                     19016                      10922  \n",
       "Grad_Rate                     59                         15  "
      ]
     },
     "execution_count": 4,
     "metadata": {},
     "output_type": "execute_result"
    }
   ],
   "source": [
    "data = spark.read.csv('../data/College.csv', header=True, inferSchema=True)\n",
    "print(data.count())\n",
    "print(data.printSchema())\n",
    "data.limit(5).toPandas().T"
   ]
  },
  {
   "cell_type": "markdown",
   "metadata": {
    "ExecuteTime": {
     "end_time": "2019-09-19T03:16:39.403318Z",
     "start_time": "2019-09-19T03:16:39.394626Z"
    }
   },
   "source": [
    "# Look at data types"
   ]
  },
  {
   "cell_type": "code",
   "execution_count": 5,
   "metadata": {
    "ExecuteTime": {
     "end_time": "2019-09-19T04:08:33.017458Z",
     "start_time": "2019-09-19T04:08:33.001503Z"
    }
   },
   "outputs": [
    {
     "data": {
      "text/plain": [
       "[('School', 'string'),\n",
       " ('Private', 'string'),\n",
       " ('Apps', 'int'),\n",
       " ('Accept', 'int'),\n",
       " ('Enroll', 'int'),\n",
       " ('Top10perc', 'int'),\n",
       " ('Top25perc', 'int'),\n",
       " ('F_Undergrad', 'int'),\n",
       " ('P_Undergrad', 'int'),\n",
       " ('Outstate', 'int'),\n",
       " ('Room_Board', 'int'),\n",
       " ('Books', 'int'),\n",
       " ('Personal', 'int'),\n",
       " ('PhD', 'int'),\n",
       " ('Terminal', 'int'),\n",
       " ('S_F_Ratio', 'double'),\n",
       " ('perc_alumni', 'int'),\n",
       " ('Expend', 'int'),\n",
       " ('Grad_Rate', 'int')]"
      ]
     },
     "execution_count": 5,
     "metadata": {},
     "output_type": "execute_result"
    }
   ],
   "source": [
    "data.dtypes"
   ]
  },
  {
   "cell_type": "code",
   "execution_count": 6,
   "metadata": {
    "ExecuteTime": {
     "end_time": "2019-09-19T04:08:34.693749Z",
     "start_time": "2019-09-19T04:08:33.033343Z"
    }
   },
   "outputs": [
    {
     "data": {
      "text/html": [
       "<div>\n",
       "<style scoped>\n",
       "    .dataframe tbody tr th:only-of-type {\n",
       "        vertical-align: middle;\n",
       "    }\n",
       "\n",
       "    .dataframe tbody tr th {\n",
       "        vertical-align: top;\n",
       "    }\n",
       "\n",
       "    .dataframe thead th {\n",
       "        text-align: right;\n",
       "    }\n",
       "</style>\n",
       "<table border=\"1\" class=\"dataframe\">\n",
       "  <thead>\n",
       "    <tr style=\"text-align: right;\">\n",
       "      <th></th>\n",
       "      <th>0</th>\n",
       "      <th>1</th>\n",
       "      <th>2</th>\n",
       "      <th>3</th>\n",
       "      <th>4</th>\n",
       "    </tr>\n",
       "  </thead>\n",
       "  <tbody>\n",
       "    <tr>\n",
       "      <td>summary</td>\n",
       "      <td>count</td>\n",
       "      <td>mean</td>\n",
       "      <td>stddev</td>\n",
       "      <td>min</td>\n",
       "      <td>max</td>\n",
       "    </tr>\n",
       "    <tr>\n",
       "      <td>Apps</td>\n",
       "      <td>777</td>\n",
       "      <td>3001.6383526383524</td>\n",
       "      <td>3870.2014844352884</td>\n",
       "      <td>81</td>\n",
       "      <td>48094</td>\n",
       "    </tr>\n",
       "    <tr>\n",
       "      <td>Accept</td>\n",
       "      <td>777</td>\n",
       "      <td>2018.8043758043757</td>\n",
       "      <td>2451.11397099263</td>\n",
       "      <td>72</td>\n",
       "      <td>26330</td>\n",
       "    </tr>\n",
       "    <tr>\n",
       "      <td>Enroll</td>\n",
       "      <td>777</td>\n",
       "      <td>779.972972972973</td>\n",
       "      <td>929.17619013287</td>\n",
       "      <td>35</td>\n",
       "      <td>6392</td>\n",
       "    </tr>\n",
       "    <tr>\n",
       "      <td>Top10perc</td>\n",
       "      <td>777</td>\n",
       "      <td>27.55855855855856</td>\n",
       "      <td>17.640364385452134</td>\n",
       "      <td>1</td>\n",
       "      <td>96</td>\n",
       "    </tr>\n",
       "    <tr>\n",
       "      <td>Top25perc</td>\n",
       "      <td>777</td>\n",
       "      <td>55.7966537966538</td>\n",
       "      <td>19.804777595131373</td>\n",
       "      <td>9</td>\n",
       "      <td>100</td>\n",
       "    </tr>\n",
       "    <tr>\n",
       "      <td>F_Undergrad</td>\n",
       "      <td>777</td>\n",
       "      <td>3699.907335907336</td>\n",
       "      <td>4850.420530887386</td>\n",
       "      <td>139</td>\n",
       "      <td>31643</td>\n",
       "    </tr>\n",
       "    <tr>\n",
       "      <td>P_Undergrad</td>\n",
       "      <td>777</td>\n",
       "      <td>855.2985842985843</td>\n",
       "      <td>1522.431887295513</td>\n",
       "      <td>1</td>\n",
       "      <td>21836</td>\n",
       "    </tr>\n",
       "    <tr>\n",
       "      <td>Outstate</td>\n",
       "      <td>777</td>\n",
       "      <td>10440.66924066924</td>\n",
       "      <td>4023.0164841119727</td>\n",
       "      <td>2340</td>\n",
       "      <td>21700</td>\n",
       "    </tr>\n",
       "    <tr>\n",
       "      <td>Room_Board</td>\n",
       "      <td>777</td>\n",
       "      <td>4357.526383526383</td>\n",
       "      <td>1096.6964155935289</td>\n",
       "      <td>1780</td>\n",
       "      <td>8124</td>\n",
       "    </tr>\n",
       "    <tr>\n",
       "      <td>Books</td>\n",
       "      <td>777</td>\n",
       "      <td>549.3809523809524</td>\n",
       "      <td>165.10536013709253</td>\n",
       "      <td>96</td>\n",
       "      <td>2340</td>\n",
       "    </tr>\n",
       "    <tr>\n",
       "      <td>Personal</td>\n",
       "      <td>777</td>\n",
       "      <td>1340.6422136422136</td>\n",
       "      <td>677.071453590578</td>\n",
       "      <td>250</td>\n",
       "      <td>6800</td>\n",
       "    </tr>\n",
       "    <tr>\n",
       "      <td>PhD</td>\n",
       "      <td>777</td>\n",
       "      <td>72.66023166023166</td>\n",
       "      <td>16.328154687939314</td>\n",
       "      <td>8</td>\n",
       "      <td>103</td>\n",
       "    </tr>\n",
       "    <tr>\n",
       "      <td>Terminal</td>\n",
       "      <td>777</td>\n",
       "      <td>79.70270270270271</td>\n",
       "      <td>14.722358527903374</td>\n",
       "      <td>24</td>\n",
       "      <td>100</td>\n",
       "    </tr>\n",
       "    <tr>\n",
       "      <td>perc_alumni</td>\n",
       "      <td>777</td>\n",
       "      <td>22.743886743886744</td>\n",
       "      <td>12.39180148937615</td>\n",
       "      <td>0</td>\n",
       "      <td>64</td>\n",
       "    </tr>\n",
       "    <tr>\n",
       "      <td>Expend</td>\n",
       "      <td>777</td>\n",
       "      <td>9660.17117117117</td>\n",
       "      <td>5221.76843985609</td>\n",
       "      <td>3186</td>\n",
       "      <td>56233</td>\n",
       "    </tr>\n",
       "    <tr>\n",
       "      <td>Grad_Rate</td>\n",
       "      <td>777</td>\n",
       "      <td>65.46332046332046</td>\n",
       "      <td>17.177709897155403</td>\n",
       "      <td>10</td>\n",
       "      <td>118</td>\n",
       "    </tr>\n",
       "  </tbody>\n",
       "</table>\n",
       "</div>"
      ],
      "text/plain": [
       "                 0                   1                   2     3      4\n",
       "summary      count                mean              stddev   min    max\n",
       "Apps           777  3001.6383526383524  3870.2014844352884    81  48094\n",
       "Accept         777  2018.8043758043757    2451.11397099263    72  26330\n",
       "Enroll         777    779.972972972973     929.17619013287    35   6392\n",
       "Top10perc      777   27.55855855855856  17.640364385452134     1     96\n",
       "Top25perc      777    55.7966537966538  19.804777595131373     9    100\n",
       "F_Undergrad    777   3699.907335907336   4850.420530887386   139  31643\n",
       "P_Undergrad    777   855.2985842985843   1522.431887295513     1  21836\n",
       "Outstate       777   10440.66924066924  4023.0164841119727  2340  21700\n",
       "Room_Board     777   4357.526383526383  1096.6964155935289  1780   8124\n",
       "Books          777   549.3809523809524  165.10536013709253    96   2340\n",
       "Personal       777  1340.6422136422136    677.071453590578   250   6800\n",
       "PhD            777   72.66023166023166  16.328154687939314     8    103\n",
       "Terminal       777   79.70270270270271  14.722358527903374    24    100\n",
       "perc_alumni    777  22.743886743886744   12.39180148937615     0     64\n",
       "Expend         777    9660.17117117117    5221.76843985609  3186  56233\n",
       "Grad_Rate      777   65.46332046332046  17.177709897155403    10    118"
      ]
     },
     "execution_count": 6,
     "metadata": {},
     "output_type": "execute_result"
    }
   ],
   "source": [
    "numeric_features = [t[0] for t in data.dtypes if t[1] == 'int']\n",
    "data.select(numeric_features).describe().toPandas().transpose()"
   ]
  },
  {
   "cell_type": "code",
   "execution_count": 7,
   "metadata": {
    "ExecuteTime": {
     "end_time": "2019-09-19T04:08:34.701457Z",
     "start_time": "2019-09-19T04:08:34.695633Z"
    }
   },
   "outputs": [
    {
     "name": "stdout",
     "output_type": "stream",
     "text": [
      "['School', 'Private', 'Apps', 'Accept', 'Enroll', 'Top10perc', 'Top25perc', 'F_Undergrad', 'P_Undergrad', 'Outstate', 'Room_Board', 'Books', 'Personal', 'PhD', 'Terminal', 'S_F_Ratio', 'perc_alumni', 'Expend', 'Grad_Rate']\n"
     ]
    }
   ],
   "source": [
    "print(data.columns)"
   ]
  },
  {
   "cell_type": "code",
   "execution_count": 8,
   "metadata": {
    "ExecuteTime": {
     "end_time": "2019-09-19T04:08:34.752425Z",
     "start_time": "2019-09-19T04:08:34.702983Z"
    }
   },
   "outputs": [],
   "source": [
    "input_cols = [ 'Apps', 'Accept', 'Enroll', 'Top10perc', 'Top25perc',\n",
    "              'F_Undergrad', 'P_Undergrad', 'Outstate', 'Room_Board',\n",
    "              'Books', 'Personal', 'PhD', 'Terminal', 'S_F_Ratio',\n",
    "              'perc_alumni', 'Expend', 'Grad_Rate']\n",
    "\n",
    "assembler = VectorAssembler(inputCols=input_cols, outputCol='features')"
   ]
  },
  {
   "cell_type": "code",
   "execution_count": 9,
   "metadata": {
    "ExecuteTime": {
     "end_time": "2019-09-19T04:08:35.005732Z",
     "start_time": "2019-09-19T04:08:34.756698Z"
    }
   },
   "outputs": [],
   "source": [
    "output = assembler.transform(data)"
   ]
  },
  {
   "cell_type": "markdown",
   "metadata": {},
   "source": [
    "## categorical values"
   ]
  },
  {
   "cell_type": "code",
   "execution_count": 10,
   "metadata": {
    "ExecuteTime": {
     "end_time": "2019-09-19T04:08:35.012890Z",
     "start_time": "2019-09-19T04:08:35.007471Z"
    }
   },
   "outputs": [
    {
     "data": {
      "text/plain": [
       "['School', 'Private']"
      ]
     },
     "execution_count": 10,
     "metadata": {},
     "output_type": "execute_result"
    }
   ],
   "source": [
    "categorical_features = [t[0] for t in data.dtypes if t[1] == 'string']\n",
    "categorical_features"
   ]
  },
  {
   "cell_type": "code",
   "execution_count": 11,
   "metadata": {
    "ExecuteTime": {
     "end_time": "2019-09-19T04:08:35.975147Z",
     "start_time": "2019-09-19T04:08:35.015518Z"
    }
   },
   "outputs": [
    {
     "name": "stdout",
     "output_type": "stream",
     "text": [
      "+-------+\n",
      "|Private|\n",
      "+-------+\n",
      "|     No|\n",
      "|    Yes|\n",
      "+-------+\n",
      "\n"
     ]
    }
   ],
   "source": [
    "data.select('Private').distinct().show()"
   ]
  },
  {
   "cell_type": "code",
   "execution_count": 12,
   "metadata": {
    "ExecuteTime": {
     "end_time": "2019-09-19T04:08:36.328184Z",
     "start_time": "2019-09-19T04:08:35.977685Z"
    }
   },
   "outputs": [
    {
     "name": "stdout",
     "output_type": "stream",
     "text": [
      "+--------------------+\n",
      "|              School|\n",
      "+--------------------+\n",
      "|    Colorado College|\n",
      "|Fresno Pacific Co...|\n",
      "| Mount Marty College|\n",
      "|University of Okl...|\n",
      "|  Widener University|\n",
      "|Bethune Cookman C...|\n",
      "|Marquette University|\n",
      "| New York University|\n",
      "|  Norwich University|\n",
      "|SUNY College  at ...|\n",
      "|University of Neb...|\n",
      "|  Lindenwood College|\n",
      "|Auburn University...|\n",
      "|   Butler University|\n",
      "|     Carroll College|\n",
      "|       Smith College|\n",
      "|University of Cal...|\n",
      "|  Adelphi University|\n",
      "|   Blackburn College|\n",
      "|  Fordham University|\n",
      "+--------------------+\n",
      "only showing top 20 rows\n",
      "\n"
     ]
    }
   ],
   "source": [
    "data.select('School').distinct().show()"
   ]
  },
  {
   "cell_type": "code",
   "execution_count": 13,
   "metadata": {
    "ExecuteTime": {
     "end_time": "2019-09-19T04:08:36.822884Z",
     "start_time": "2019-09-19T04:08:36.330461Z"
    }
   },
   "outputs": [
    {
     "name": "stdout",
     "output_type": "stream",
     "text": [
      "root\n",
      " |-- School: string (nullable = true)\n",
      " |-- Private: string (nullable = true)\n",
      " |-- Apps: integer (nullable = true)\n",
      " |-- Accept: integer (nullable = true)\n",
      " |-- Enroll: integer (nullable = true)\n",
      " |-- Top10perc: integer (nullable = true)\n",
      " |-- Top25perc: integer (nullable = true)\n",
      " |-- F_Undergrad: integer (nullable = true)\n",
      " |-- P_Undergrad: integer (nullable = true)\n",
      " |-- Outstate: integer (nullable = true)\n",
      " |-- Room_Board: integer (nullable = true)\n",
      " |-- Books: integer (nullable = true)\n",
      " |-- Personal: integer (nullable = true)\n",
      " |-- PhD: integer (nullable = true)\n",
      " |-- Terminal: integer (nullable = true)\n",
      " |-- S_F_Ratio: double (nullable = true)\n",
      " |-- perc_alumni: integer (nullable = true)\n",
      " |-- Expend: integer (nullable = true)\n",
      " |-- Grad_Rate: integer (nullable = true)\n",
      " |-- features: vector (nullable = true)\n",
      " |-- PrivateIndex: double (nullable = false)\n",
      "\n"
     ]
    }
   ],
   "source": [
    "indexer = StringIndexer(inputCol='Private', outputCol='PrivateIndex')\n",
    "output_fixed = indexer.fit(output).transform(output)\n",
    "output_fixed.printSchema()"
   ]
  },
  {
   "cell_type": "code",
   "execution_count": 14,
   "metadata": {
    "ExecuteTime": {
     "end_time": "2019-09-19T04:08:36.866704Z",
     "start_time": "2019-09-19T04:08:36.825098Z"
    }
   },
   "outputs": [],
   "source": [
    "final_data = output_fixed.select('features','PrivateIndex')"
   ]
  },
  {
   "cell_type": "code",
   "execution_count": 15,
   "metadata": {
    "ExecuteTime": {
     "end_time": "2019-09-19T04:08:36.903829Z",
     "start_time": "2019-09-19T04:08:36.868157Z"
    }
   },
   "outputs": [],
   "source": [
    "train_data, test_data = final_data.randomSplit([0.7, 0.3],seed=100)"
   ]
  },
  {
   "cell_type": "markdown",
   "metadata": {},
   "source": [
    "# Modelling"
   ]
  },
  {
   "cell_type": "code",
   "execution_count": 16,
   "metadata": {
    "ExecuteTime": {
     "end_time": "2019-09-19T04:08:36.911345Z",
     "start_time": "2019-09-19T04:08:36.906498Z"
    }
   },
   "outputs": [],
   "source": [
    "from pyspark.ml.classification import DecisionTreeClassifier,GBTClassifier,RandomForestClassifier"
   ]
  },
  {
   "cell_type": "code",
   "execution_count": 17,
   "metadata": {
    "ExecuteTime": {
     "end_time": "2019-09-19T04:08:36.971496Z",
     "start_time": "2019-09-19T04:08:36.914961Z"
    }
   },
   "outputs": [],
   "source": [
    "dtc = DecisionTreeClassifier(labelCol='PrivateIndex', featuresCol='features')\n",
    "rfc = RandomForestClassifier(labelCol='PrivateIndex', featuresCol='features',numTrees=200)\n",
    "gbt = GBTClassifier(labelCol='PrivateIndex', featuresCol='features')"
   ]
  },
  {
   "cell_type": "code",
   "execution_count": 18,
   "metadata": {
    "ExecuteTime": {
     "end_time": "2019-09-19T04:08:46.356259Z",
     "start_time": "2019-09-19T04:08:36.973612Z"
    }
   },
   "outputs": [],
   "source": [
    "dtc_model = dtc.fit(train_data)\n",
    "rfc_model = rfc.fit(train_data)\n",
    "gbt_model = gbt.fit(train_data)"
   ]
  },
  {
   "cell_type": "markdown",
   "metadata": {},
   "source": [
    "# Model Predictions"
   ]
  },
  {
   "cell_type": "code",
   "execution_count": 19,
   "metadata": {
    "ExecuteTime": {
     "end_time": "2019-09-19T04:08:46.516920Z",
     "start_time": "2019-09-19T04:08:46.357519Z"
    }
   },
   "outputs": [],
   "source": [
    "dtc_preds = dtc_model.transform(test_data)\n",
    "rfc_preds = rfc_model.transform(test_data)\n",
    "gbt_preds = gbt_model.transform(test_data)"
   ]
  },
  {
   "cell_type": "code",
   "execution_count": 20,
   "metadata": {
    "ExecuteTime": {
     "end_time": "2019-09-19T04:08:46.815513Z",
     "start_time": "2019-09-19T04:08:46.521241Z"
    }
   },
   "outputs": [
    {
     "name": "stdout",
     "output_type": "stream",
     "text": [
      "+--------------------+------------+-------------+-----------+----------+\n",
      "|            features|PrivateIndex|rawPrediction|probability|prediction|\n",
      "+--------------------+------------+-------------+-----------+----------+\n",
      "|[152.0,128.0,75.0...|         0.0|  [241.0,0.0]|  [1.0,0.0]|       0.0|\n",
      "|[191.0,165.0,63.0...|         0.0|  [241.0,0.0]|  [1.0,0.0]|       0.0|\n",
      "+--------------------+------------+-------------+-----------+----------+\n",
      "only showing top 2 rows\n",
      "\n"
     ]
    }
   ],
   "source": [
    "dtc_preds.show(2)"
   ]
  },
  {
   "cell_type": "markdown",
   "metadata": {},
   "source": [
    "# Model evaluation"
   ]
  },
  {
   "cell_type": "code",
   "execution_count": 21,
   "metadata": {
    "ExecuteTime": {
     "end_time": "2019-09-19T04:08:46.820536Z",
     "start_time": "2019-09-19T04:08:46.817316Z"
    }
   },
   "outputs": [],
   "source": [
    "from pyspark.ml.evaluation import MulticlassClassificationEvaluator"
   ]
  },
  {
   "cell_type": "code",
   "execution_count": 22,
   "metadata": {
    "ExecuteTime": {
     "end_time": "2019-09-19T04:08:46.872189Z",
     "start_time": "2019-09-19T04:08:46.823176Z"
    }
   },
   "outputs": [],
   "source": [
    "acc_evaluator = MulticlassClassificationEvaluator(labelCol=\"PrivateIndex\",\n",
    "                                                  predictionCol=\"prediction\",\n",
    "                                                  metricName=\"accuracy\")"
   ]
  },
  {
   "cell_type": "code",
   "execution_count": 23,
   "metadata": {
    "ExecuteTime": {
     "end_time": "2019-09-19T04:08:47.713347Z",
     "start_time": "2019-09-19T04:08:46.874499Z"
    }
   },
   "outputs": [],
   "source": [
    "dtc_acc = acc_evaluator.evaluate(dtc_preds)\n",
    "rfc_acc = acc_evaluator.evaluate(rfc_preds)\n",
    "gbt_acc = acc_evaluator.evaluate(gbt_preds)"
   ]
  },
  {
   "cell_type": "code",
   "execution_count": 24,
   "metadata": {
    "ExecuteTime": {
     "end_time": "2019-09-19T04:08:47.746245Z",
     "start_time": "2019-09-19T04:08:47.715230Z"
    }
   },
   "outputs": [
    {
     "data": {
      "text/html": [
       "<div>\n",
       "<style scoped>\n",
       "    .dataframe tbody tr th:only-of-type {\n",
       "        vertical-align: middle;\n",
       "    }\n",
       "\n",
       "    .dataframe tbody tr th {\n",
       "        vertical-align: top;\n",
       "    }\n",
       "\n",
       "    .dataframe thead th {\n",
       "        text-align: right;\n",
       "    }\n",
       "</style>\n",
       "<table border=\"1\" class=\"dataframe\">\n",
       "  <thead>\n",
       "    <tr style=\"text-align: right;\">\n",
       "      <th></th>\n",
       "      <th>DT</th>\n",
       "      <th>RF</th>\n",
       "      <th>GBT</th>\n",
       "    </tr>\n",
       "  </thead>\n",
       "  <tbody>\n",
       "    <tr>\n",
       "      <td>accuracy</td>\n",
       "      <td>89.52</td>\n",
       "      <td>93.55</td>\n",
       "      <td>90.32</td>\n",
       "    </tr>\n",
       "  </tbody>\n",
       "</table>\n",
       "</div>"
      ],
      "text/plain": [
       "             DT     RF    GBT\n",
       "accuracy  89.52  93.55  90.32"
      ]
     },
     "execution_count": 24,
     "metadata": {},
     "output_type": "execute_result"
    }
   ],
   "source": [
    "output_df = pd.DataFrame({'DT': dtc_acc, 'RF': rfc_acc, 'GBT': gbt_acc},\n",
    "                         index=['accuracy']).mul(100).round(2)\n",
    "output_df"
   ]
  },
  {
   "cell_type": "code",
   "execution_count": null,
   "metadata": {},
   "outputs": [],
   "source": []
  }
 ],
 "metadata": {
  "kernelspec": {
   "display_name": "Python (spk)",
   "language": "python",
   "name": "spk"
  },
  "language_info": {
   "codemirror_mode": {
    "name": "ipython",
    "version": 3
   },
   "file_extension": ".py",
   "mimetype": "text/x-python",
   "name": "python",
   "nbconvert_exporter": "python",
   "pygments_lexer": "ipython3",
   "version": "3.7.4"
  },
  "toc": {
   "base_numbering": 1,
   "nav_menu": {},
   "number_sections": true,
   "sideBar": true,
   "skip_h1_title": false,
   "title_cell": "Table of Contents",
   "title_sidebar": "Contents",
   "toc_cell": true,
   "toc_position": {},
   "toc_section_display": true,
   "toc_window_display": true
  }
 },
 "nbformat": 4,
 "nbformat_minor": 2
}
