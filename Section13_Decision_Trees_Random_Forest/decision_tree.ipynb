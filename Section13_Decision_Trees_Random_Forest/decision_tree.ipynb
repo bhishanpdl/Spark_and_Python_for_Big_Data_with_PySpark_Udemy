{
 "cells": [
  {
   "cell_type": "markdown",
   "metadata": {
    "toc": true
   },
   "source": [
    "<h1>Table of Contents<span class=\"tocSkip\"></span></h1>\n",
    "<div class=\"toc\"><ul class=\"toc-item\"><li><span><a href=\"#Load-data\" data-toc-modified-id=\"Load-data-1\"><span class=\"toc-item-num\">1&nbsp;&nbsp;</span>Load data</a></span></li><li><span><a href=\"#Modelling\" data-toc-modified-id=\"Modelling-2\"><span class=\"toc-item-num\">2&nbsp;&nbsp;</span>Modelling</a></span></li><li><span><a href=\"#Model-Predictions\" data-toc-modified-id=\"Model-Predictions-3\"><span class=\"toc-item-num\">3&nbsp;&nbsp;</span>Model Predictions</a></span></li><li><span><a href=\"#Model-evaluation\" data-toc-modified-id=\"Model-evaluation-4\"><span class=\"toc-item-num\">4&nbsp;&nbsp;</span>Model evaluation</a></span></li></ul></div>"
   ]
  },
  {
   "cell_type": "code",
   "execution_count": 1,
   "metadata": {
    "ExecuteTime": {
     "end_time": "2019-09-19T02:09:13.418612Z",
     "start_time": "2019-09-19T02:09:07.517082Z"
    }
   },
   "outputs": [
    {
     "name": "stdout",
     "output_type": "stream",
     "text": [
      "[('numpy', '1.17.1'), ('pandas', '0.25.1'), ('pyspark', '2.4.4')]\n"
     ]
    }
   ],
   "source": [
    "import numpy as np\n",
    "import pandas as pd\n",
    "import pyspark\n",
    "from pyspark import SparkConf, SparkContext, SQLContext\n",
    "from pyspark.sql import SparkSession\n",
    "from pyspark.sql.functions import udf # @udf(\"integer\") def myfunc(x,y): return x - y\n",
    "from pyspark.sql import functions as F # stddev format_number date_format, dayofyear, when\n",
    "from pyspark.sql.types import StructField, StringType, IntegerType, StructType\n",
    "\n",
    "print([(x.__name__,x.__version__) for x in [np, pd, pyspark]])\n",
    "\n",
    "spark = pyspark.sql.SparkSession.builder.appName('dtree').getOrCreate()\n",
    "sc = spark.sparkContext\n",
    "sqlContext = SQLContext(sc) # spark_df = sqlContext.createDataFrame(pandas_df)\n",
    "sc.setLogLevel(\"INFO\")"
   ]
  },
  {
   "cell_type": "code",
   "execution_count": 35,
   "metadata": {
    "ExecuteTime": {
     "end_time": "2019-09-19T03:02:55.103024Z",
     "start_time": "2019-09-19T03:02:55.098308Z"
    }
   },
   "outputs": [],
   "source": [
    "from pyspark.ml import Pipeline\n",
    "from pyspark.ml.regression import (RandomForestRegressor, GBTRegressor,\n",
    "                                  DecisionTreeRegressor)\n",
    "\n",
    "from pyspark.ml.evaluation import MulticlassClassificationEvaluator"
   ]
  },
  {
   "cell_type": "markdown",
   "metadata": {},
   "source": [
    "# Load data"
   ]
  },
  {
   "cell_type": "code",
   "execution_count": 7,
   "metadata": {
    "ExecuteTime": {
     "end_time": "2019-09-19T02:16:02.938350Z",
     "start_time": "2019-09-19T02:16:02.784065Z"
    }
   },
   "outputs": [
    {
     "name": "stdout",
     "output_type": "stream",
     "text": [
      "0 128:51 129:159 130:253 131:159 132:50 155:48 156:238 157:252 158:252 159:252 160:237 182:54 183:227 184:253 185:252 186:239 187:233 188:252 189:57 190:6 208:10 209:60 210:224 211:252 212:253 213:252 214:202 215:84 216:252 217:253 218:122 236:163 237:252 238:252 239:252 240:253 241:252 242:252 243:96 244:189 245:253 246:167 263:51 264:238 265:253 266:253 267:190 268:114 269:253 270:228 271:47 272:79 273:255 274:168 290:48 291:238 292:252 293:252 294:179 295:12 296:75 297:121 298:21 301:253 302:243 303:50 317:38 318:165 319:253 320:233 321:208 322:84 329:253 330:252 331:165 344:7 345:178 346:252 347:240 348:71 349:19 350:28 357:253 358:252 359:195 372:57 373:252 374:252 375:63 385:253 386:252 387:195 400:198 401:253 402:190 413:255 414:253 415:196 427:76 428:246 429:252 430:112 441:253 442:252 443:148 455:85 456:252 457:230 458:25 467:7 468:135 469:253 470:186 471:12 483:85 484:252 485:223 494:7 495:131 496:252 497:225 498:71 511:85 512:252 513:145 521:48 522:165 523:252 524:173 539:86 540:253 541:225 548:114 549:238 550:253 551:162 567:85 568:252 569:249 570:146 571:48 572:29 573:85 574:178 575:225 576:253 577:223 578:167 579:56 595:85 596:252 597:252 598:252 599:229 600:215 601:252 602:252 603:252 604:196 605:130 623:28 624:199 625:252 626:252 627:253 628:252 629:252 630:233 631:145 652:25 653:128 654:252 655:253 656:252 657:141 658:37\r\n",
      "1 159:124 160:253 161:255 162:63 186:96 187:244 188:251 189:253 190:62 214:127 215:251 216:251 217:253 218:62 241:68 242:236 243:251 244:211 245:31 246:8 268:60 269:228 270:251 271:251 272:94 296:155 297:253 298:253 299:189 323:20 324:253 325:251 326:235 327:66 350:32 351:205 352:253 353:251 354:126 378:104 379:251 380:253 381:184 382:15 405:80 406:240 407:251 408:193 409:23 432:32 433:253 434:253 435:253 436:159 460:151 461:251 462:251 463:251 464:39 487:48 488:221 489:251 490:251 491:172 515:234 516:251 517:251 518:196 519:12 543:253 544:251 545:251 546:89 570:159 571:255 572:253 573:253 574:31 597:48 598:228 599:253 600:247 601:140 602:8 625:64 626:251 627:253 628:220 653:64 654:251 655:253 656:220 681:24 682:193 683:253 684:220\r\n"
     ]
    }
   ],
   "source": [
    "!head -2 ../data/sample_libsvm_data.txt"
   ]
  },
  {
   "cell_type": "code",
   "execution_count": 8,
   "metadata": {
    "ExecuteTime": {
     "end_time": "2019-09-19T02:16:33.739351Z",
     "start_time": "2019-09-19T02:16:29.297797Z"
    }
   },
   "outputs": [],
   "source": [
    "data = spark.read.format('libsvm').load('../data/sample_libsvm_data.txt')"
   ]
  },
  {
   "cell_type": "code",
   "execution_count": 10,
   "metadata": {
    "ExecuteTime": {
     "end_time": "2019-09-19T02:17:16.515521Z",
     "start_time": "2019-09-19T02:17:15.781349Z"
    }
   },
   "outputs": [
    {
     "name": "stdout",
     "output_type": "stream",
     "text": [
      "100\n",
      "+-----+--------------------+\n",
      "|label|            features|\n",
      "+-----+--------------------+\n",
      "|  0.0|(692,[127,128,129...|\n",
      "|  1.0|(692,[158,159,160...|\n",
      "|  1.0|(692,[124,125,126...|\n",
      "|  1.0|(692,[152,153,154...|\n",
      "|  1.0|(692,[151,152,153...|\n",
      "|  0.0|(692,[129,130,131...|\n",
      "|  1.0|(692,[158,159,160...|\n",
      "|  1.0|(692,[99,100,101,...|\n",
      "|  0.0|(692,[154,155,156...|\n",
      "|  0.0|(692,[127,128,129...|\n",
      "|  1.0|(692,[154,155,156...|\n",
      "|  0.0|(692,[153,154,155...|\n",
      "|  0.0|(692,[151,152,153...|\n",
      "|  1.0|(692,[129,130,131...|\n",
      "|  0.0|(692,[154,155,156...|\n",
      "|  1.0|(692,[150,151,152...|\n",
      "|  0.0|(692,[124,125,126...|\n",
      "|  0.0|(692,[152,153,154...|\n",
      "|  1.0|(692,[97,98,99,12...|\n",
      "|  1.0|(692,[124,125,126...|\n",
      "+-----+--------------------+\n",
      "only showing top 20 rows\n",
      "\n"
     ]
    }
   ],
   "source": [
    "print(data.count())\n",
    "data.show()"
   ]
  },
  {
   "cell_type": "code",
   "execution_count": 11,
   "metadata": {
    "ExecuteTime": {
     "end_time": "2019-09-19T02:17:26.812062Z",
     "start_time": "2019-09-19T02:17:26.805174Z"
    }
   },
   "outputs": [
    {
     "name": "stdout",
     "output_type": "stream",
     "text": [
      "root\n",
      " |-- label: double (nullable = true)\n",
      " |-- features: vector (nullable = true)\n",
      "\n"
     ]
    }
   ],
   "source": [
    "data.printSchema()"
   ]
  },
  {
   "cell_type": "code",
   "execution_count": 36,
   "metadata": {
    "ExecuteTime": {
     "end_time": "2019-09-19T03:45:25.119385Z",
     "start_time": "2019-09-19T03:45:25.106443Z"
    }
   },
   "outputs": [],
   "source": [
    "train_data, test_data = data.randomSplit([0.7,0.3])"
   ]
  },
  {
   "cell_type": "markdown",
   "metadata": {},
   "source": [
    "# Modelling"
   ]
  },
  {
   "cell_type": "code",
   "execution_count": 15,
   "metadata": {
    "ExecuteTime": {
     "end_time": "2019-09-19T02:19:33.714655Z",
     "start_time": "2019-09-19T02:19:33.651579Z"
    }
   },
   "outputs": [],
   "source": [
    "dtc = DecisionTreeRegressor()\n",
    "rfc = RandomForestRegressor(numTrees=100)\n",
    "gbt = GBTRegressor()"
   ]
  },
  {
   "cell_type": "code",
   "execution_count": 16,
   "metadata": {
    "ExecuteTime": {
     "end_time": "2019-09-19T02:20:48.238928Z",
     "start_time": "2019-09-19T02:20:40.275719Z"
    }
   },
   "outputs": [],
   "source": [
    "dtc_model = dtc.fit(train_data)\n",
    "rfc_model = rfc.fit(train_data)\n",
    "gbt_model = gbt.fit(train_data)"
   ]
  },
  {
   "cell_type": "markdown",
   "metadata": {},
   "source": [
    "# Model Predictions"
   ]
  },
  {
   "cell_type": "code",
   "execution_count": 27,
   "metadata": {
    "ExecuteTime": {
     "end_time": "2019-09-19T02:54:53.756915Z",
     "start_time": "2019-09-19T02:54:53.556868Z"
    }
   },
   "outputs": [],
   "source": [
    "dtc_preds = dtc_model.transform(test_data)\n",
    "rfc_preds = rfc_model.transform(test_data)\n",
    "gbt_preds = gbt_model.transform(test_data)"
   ]
  },
  {
   "cell_type": "code",
   "execution_count": 28,
   "metadata": {
    "ExecuteTime": {
     "end_time": "2019-09-19T02:55:02.268623Z",
     "start_time": "2019-09-19T02:55:02.022289Z"
    }
   },
   "outputs": [
    {
     "name": "stdout",
     "output_type": "stream",
     "text": [
      "+-----+--------------------+----------+\n",
      "|label|            features|prediction|\n",
      "+-----+--------------------+----------+\n",
      "|  0.0|(692,[122,123,148...|       0.0|\n",
      "|  0.0|(692,[123,124,125...|       0.0|\n",
      "|  0.0|(692,[124,125,126...|       0.0|\n",
      "|  0.0|(692,[124,125,126...|       0.0|\n",
      "|  0.0|(692,[126,127,128...|       0.0|\n",
      "|  0.0|(692,[126,127,128...|       0.0|\n",
      "|  0.0|(692,[126,127,128...|       0.0|\n",
      "|  0.0|(692,[126,127,128...|       0.0|\n",
      "|  0.0|(692,[127,128,129...|       0.0|\n",
      "|  0.0|(692,[127,128,129...|       0.0|\n",
      "|  0.0|(692,[152,153,154...|       0.0|\n",
      "|  1.0|(692,[97,98,99,12...|       1.0|\n",
      "|  1.0|(692,[99,100,101,...|       0.0|\n",
      "|  1.0|(692,[123,124,125...|       1.0|\n",
      "|  1.0|(692,[124,125,126...|       1.0|\n",
      "|  1.0|(692,[125,126,127...|       1.0|\n",
      "|  1.0|(692,[125,126,127...|       1.0|\n",
      "|  1.0|(692,[126,127,128...|       1.0|\n",
      "|  1.0|(692,[127,128,154...|       1.0|\n",
      "|  1.0|(692,[128,129,130...|       1.0|\n",
      "+-----+--------------------+----------+\n",
      "only showing top 20 rows\n",
      "\n"
     ]
    }
   ],
   "source": [
    "dtc_preds.show()"
   ]
  },
  {
   "cell_type": "code",
   "execution_count": 30,
   "metadata": {
    "ExecuteTime": {
     "end_time": "2019-09-19T02:56:00.566705Z",
     "start_time": "2019-09-19T02:56:00.383436Z"
    }
   },
   "outputs": [
    {
     "name": "stdout",
     "output_type": "stream",
     "text": [
      "+-----+--------------------+----------+\n",
      "|label|            features|prediction|\n",
      "+-----+--------------------+----------+\n",
      "|  0.0|(692,[122,123,148...|       0.0|\n",
      "|  0.0|(692,[123,124,125...|       0.0|\n",
      "|  0.0|(692,[124,125,126...|       0.0|\n",
      "|  0.0|(692,[124,125,126...|       0.0|\n",
      "|  0.0|(692,[126,127,128...|       0.0|\n",
      "|  0.0|(692,[126,127,128...|       0.0|\n",
      "|  0.0|(692,[126,127,128...|       0.0|\n",
      "|  0.0|(692,[126,127,128...|       0.0|\n",
      "|  0.0|(692,[127,128,129...|       0.0|\n",
      "|  0.0|(692,[127,128,129...|       0.0|\n",
      "|  0.0|(692,[152,153,154...|       0.0|\n",
      "|  1.0|(692,[97,98,99,12...|       1.0|\n",
      "|  1.0|(692,[99,100,101,...|       0.0|\n",
      "|  1.0|(692,[123,124,125...|       1.0|\n",
      "|  1.0|(692,[124,125,126...|       1.0|\n",
      "|  1.0|(692,[125,126,127...|       1.0|\n",
      "|  1.0|(692,[125,126,127...|       1.0|\n",
      "|  1.0|(692,[126,127,128...|       1.0|\n",
      "|  1.0|(692,[127,128,154...|       1.0|\n",
      "|  1.0|(692,[128,129,130...|       1.0|\n",
      "+-----+--------------------+----------+\n",
      "only showing top 20 rows\n",
      "\n"
     ]
    }
   ],
   "source": [
    "gbt_preds.show()"
   ]
  },
  {
   "cell_type": "markdown",
   "metadata": {},
   "source": [
    "# Model evaluation"
   ]
  },
  {
   "cell_type": "code",
   "execution_count": 31,
   "metadata": {
    "ExecuteTime": {
     "end_time": "2019-09-19T02:56:31.754395Z",
     "start_time": "2019-09-19T02:56:31.747591Z"
    }
   },
   "outputs": [],
   "source": [
    "from pyspark.ml.evaluation import MulticlassClassificationEvaluator"
   ]
  },
  {
   "cell_type": "code",
   "execution_count": 32,
   "metadata": {
    "ExecuteTime": {
     "end_time": "2019-09-19T02:57:41.618423Z",
     "start_time": "2019-09-19T02:57:41.343603Z"
    }
   },
   "outputs": [
    {
     "name": "stdout",
     "output_type": "stream",
     "text": [
      "dtc accuracy:\n"
     ]
    },
    {
     "data": {
      "text/plain": [
       "0.9629629629629629"
      ]
     },
     "execution_count": 32,
     "metadata": {},
     "output_type": "execute_result"
    }
   ],
   "source": [
    "print('dtc accuracy:')\n",
    "acc_eval = MulticlassClassificationEvaluator(metricName='accuracy')\n",
    "acc_eval.evaluate(dtc_preds)"
   ]
  },
  {
   "cell_type": "code",
   "execution_count": 33,
   "metadata": {
    "ExecuteTime": {
     "end_time": "2019-09-19T02:58:39.793858Z",
     "start_time": "2019-09-19T02:58:39.481188Z"
    }
   },
   "outputs": [
    {
     "name": "stdout",
     "output_type": "stream",
     "text": [
      "gbt accuracy:\n"
     ]
    },
    {
     "data": {
      "text/plain": [
       "0.9629629629629629"
      ]
     },
     "execution_count": 33,
     "metadata": {},
     "output_type": "execute_result"
    }
   ],
   "source": [
    "print('gbt accuracy:')\n",
    "acc_eval = MulticlassClassificationEvaluator(metricName='accuracy')\n",
    "acc_eval.evaluate(gbt_preds)"
   ]
  },
  {
   "cell_type": "code",
   "execution_count": 34,
   "metadata": {
    "ExecuteTime": {
     "end_time": "2019-09-19T02:59:13.269709Z",
     "start_time": "2019-09-19T02:59:13.254967Z"
    }
   },
   "outputs": [
    {
     "data": {
      "text/plain": [
       "SparseVector(692, {378: 0.01, 379: 0.0288, 404: 0.0011, 406: 0.0794, 407: 0.0578, 433: 0.0511, 434: 0.16, 435: 0.02, 455: 0.0006, 461: 0.0089, 462: 0.2, 463: 0.02, 489: 0.0395, 490: 0.1811, 491: 0.0011, 511: 0.04, 512: 0.01, 517: 0.0787, 518: 0.009, 519: 0.0006, 551: 0.0005, 565: 0.0006, 664: 0.0006, 665: 0.0005})"
      ]
     },
     "execution_count": 34,
     "metadata": {},
     "output_type": "execute_result"
    }
   ],
   "source": [
    "rfc_model.featureImportances"
   ]
  },
  {
   "cell_type": "code",
   "execution_count": null,
   "metadata": {},
   "outputs": [],
   "source": []
  }
 ],
 "metadata": {
  "kernelspec": {
   "display_name": "Python (spk)",
   "language": "python",
   "name": "spk"
  },
  "language_info": {
   "codemirror_mode": {
    "name": "ipython",
    "version": 3
   },
   "file_extension": ".py",
   "mimetype": "text/x-python",
   "name": "python",
   "nbconvert_exporter": "python",
   "pygments_lexer": "ipython3",
   "version": "3.7.4"
  },
  "toc": {
   "base_numbering": 1,
   "nav_menu": {},
   "number_sections": true,
   "sideBar": true,
   "skip_h1_title": false,
   "title_cell": "Table of Contents",
   "title_sidebar": "Contents",
   "toc_cell": true,
   "toc_position": {},
   "toc_section_display": true,
   "toc_window_display": true
  }
 },
 "nbformat": 4,
 "nbformat_minor": 2
}
