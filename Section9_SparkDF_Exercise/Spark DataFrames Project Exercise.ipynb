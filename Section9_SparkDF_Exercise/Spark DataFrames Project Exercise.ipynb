{
 "cells": [
  {
   "cell_type": "markdown",
   "metadata": {
    "toc": true
   },
   "source": [
    "<h1>Table of Contents<span class=\"tocSkip\"></span></h1>\n",
    "<div class=\"toc\"><ul class=\"toc-item\"><li><span><a href=\"#Spark-DataFrames-Project-Exercise\" data-toc-modified-id=\"Spark-DataFrames-Project-Exercise-1\"><span class=\"toc-item-num\">1&nbsp;&nbsp;</span>Spark DataFrames Project Exercise</a></span><ul class=\"toc-item\"><li><ul class=\"toc-item\"><li><ul class=\"toc-item\"><li><span><a href=\"#Use-the-walmart_stock.csv-file-to-Answer-and-complete-the--tasks-below!\" data-toc-modified-id=\"Use-the-walmart_stock.csv-file-to-Answer-and-complete-the--tasks-below!-1.0.0.1\"><span class=\"toc-item-num\">1.0.0.1&nbsp;&nbsp;</span>Use the walmart_stock.csv file to Answer and complete the  tasks below!</a></span></li><li><span><a href=\"#Start-a-simple-Spark-Session\" data-toc-modified-id=\"Start-a-simple-Spark-Session-1.0.0.2\"><span class=\"toc-item-num\">1.0.0.2&nbsp;&nbsp;</span>Start a simple Spark Session</a></span></li><li><span><a href=\"#Load-the-Walmart-Stock-CSV-File,-have-Spark-infer-the-data-types.\" data-toc-modified-id=\"Load-the-Walmart-Stock-CSV-File,-have-Spark-infer-the-data-types.-1.0.0.3\"><span class=\"toc-item-num\">1.0.0.3&nbsp;&nbsp;</span>Load the Walmart Stock CSV File, have Spark infer the data types.</a></span></li><li><span><a href=\"#What-are-the-column-names?\" data-toc-modified-id=\"What-are-the-column-names?-1.0.0.4\"><span class=\"toc-item-num\">1.0.0.4&nbsp;&nbsp;</span>What are the column names?</a></span></li><li><span><a href=\"#What-does-the-Schema-look-like?\" data-toc-modified-id=\"What-does-the-Schema-look-like?-1.0.0.5\"><span class=\"toc-item-num\">1.0.0.5&nbsp;&nbsp;</span>What does the Schema look like?</a></span></li><li><span><a href=\"#Print-out-the-first-5-columns.\" data-toc-modified-id=\"Print-out-the-first-5-columns.-1.0.0.6\"><span class=\"toc-item-num\">1.0.0.6&nbsp;&nbsp;</span>Print out the first 5 columns.</a></span></li><li><span><a href=\"#Use-describe()-to-learn-about-the-DataFrame.\" data-toc-modified-id=\"Use-describe()-to-learn-about-the-DataFrame.-1.0.0.7\"><span class=\"toc-item-num\">1.0.0.7&nbsp;&nbsp;</span>Use describe() to learn about the DataFrame.</a></span></li></ul></li></ul></li><li><span><a href=\"#Bonus-Question!\" data-toc-modified-id=\"Bonus-Question!-1.1\"><span class=\"toc-item-num\">1.1&nbsp;&nbsp;</span>Bonus Question!</a></span><ul class=\"toc-item\"><li><ul class=\"toc-item\"><li><span><a href=\"#There-are-too-many-decimal-places-for-mean-and-stddev-in-the-describe()-dataframe.-Format-the-numbers-to-just-show-up-to-two-decimal-places.-Pay-careful-attention-to-the-datatypes-that-.describe()-returns,-we-didn't-cover-how-to-do-this-exact-formatting,-but-we-covered-something-very-similar.-Check-this-link-for-a-hint\" data-toc-modified-id=\"There-are-too-many-decimal-places-for-mean-and-stddev-in-the-describe()-dataframe.-Format-the-numbers-to-just-show-up-to-two-decimal-places.-Pay-careful-attention-to-the-datatypes-that-.describe()-returns,-we-didn't-cover-how-to-do-this-exact-formatting,-but-we-covered-something-very-similar.-Check-this-link-for-a-hint-1.1.0.1\"><span class=\"toc-item-num\">1.1.0.1&nbsp;&nbsp;</span>There are too many decimal places for mean and stddev in the describe() dataframe. Format the numbers to just show up to two decimal places. Pay careful attention to the datatypes that .describe() returns, we didn't cover how to do this exact formatting, but we covered something very similar. <a href=\"http://spark.apache.org/docs/latest/api/python/pyspark.sql.html#pyspark.sql.Column.cast\" target=\"_blank\">Check this link for a hint</a></a></span></li><li><span><a href=\"#Create-a-new-dataframe-with-a-column-called-HV-Ratio-that-is-the-ratio-of-the-High-Price-versus-volume-of-stock-traded-for-a-day.\" data-toc-modified-id=\"Create-a-new-dataframe-with-a-column-called-HV-Ratio-that-is-the-ratio-of-the-High-Price-versus-volume-of-stock-traded-for-a-day.-1.1.0.2\"><span class=\"toc-item-num\">1.1.0.2&nbsp;&nbsp;</span>Create a new dataframe with a column called HV Ratio that is the ratio of the High Price versus volume of stock traded for a day.</a></span></li><li><span><a href=\"#What-day-had-the-Peak-High-in-Price?\" data-toc-modified-id=\"What-day-had-the-Peak-High-in-Price?-1.1.0.3\"><span class=\"toc-item-num\">1.1.0.3&nbsp;&nbsp;</span>What day had the Peak High in Price?</a></span></li><li><span><a href=\"#What-is-the-mean-of-the-Close-column?\" data-toc-modified-id=\"What-is-the-mean-of-the-Close-column?-1.1.0.4\"><span class=\"toc-item-num\">1.1.0.4&nbsp;&nbsp;</span>What is the mean of the Close column?</a></span></li><li><span><a href=\"#What-is-the-max-and-min-of-the-Volume-column?\" data-toc-modified-id=\"What-is-the-max-and-min-of-the-Volume-column?-1.1.0.5\"><span class=\"toc-item-num\">1.1.0.5&nbsp;&nbsp;</span>What is the max and min of the Volume column?</a></span></li><li><span><a href=\"#How-many-days-was-the-Close-lower-than-60-dollars?\" data-toc-modified-id=\"How-many-days-was-the-Close-lower-than-60-dollars?-1.1.0.6\"><span class=\"toc-item-num\">1.1.0.6&nbsp;&nbsp;</span>How many days was the Close lower than 60 dollars?</a></span></li><li><span><a href=\"#What-percentage-of-the-time-was-the-High-greater-than-80-dollars-?\" data-toc-modified-id=\"What-percentage-of-the-time-was-the-High-greater-than-80-dollars-?-1.1.0.7\"><span class=\"toc-item-num\">1.1.0.7&nbsp;&nbsp;</span>What percentage of the time was the High greater than 80 dollars ?</a></span></li><li><span><a href=\"#In-other-words,-(Number-of-Days-High>80)/(Total-Days-in-the-dataset)\" data-toc-modified-id=\"In-other-words,-(Number-of-Days-High>80)/(Total-Days-in-the-dataset)-1.1.0.8\"><span class=\"toc-item-num\">1.1.0.8&nbsp;&nbsp;</span>In other words, (Number of Days High&gt;80)/(Total Days in the dataset)</a></span></li><li><span><a href=\"#What-is-the-Pearson-correlation-between-High-and-Volume?\" data-toc-modified-id=\"What-is-the-Pearson-correlation-between-High-and-Volume?-1.1.0.9\"><span class=\"toc-item-num\">1.1.0.9&nbsp;&nbsp;</span>What is the Pearson correlation between High and Volume?</a></span></li><li><span><a href=\"#Hint\" data-toc-modified-id=\"Hint-1.1.0.10\"><span class=\"toc-item-num\">1.1.0.10&nbsp;&nbsp;</span><a href=\"http://spark.apache.org/docs/latest/api/python/pyspark.sql.html#pyspark.sql.DataFrameStatFunctions.corr\" target=\"_blank\">Hint</a></a></span></li><li><span><a href=\"#What-is-the-max-High-per-year?\" data-toc-modified-id=\"What-is-the-max-High-per-year?-1.1.0.11\"><span class=\"toc-item-num\">1.1.0.11&nbsp;&nbsp;</span>What is the max High per year?</a></span></li><li><span><a href=\"#What-is-the-average-Close-for-each-Calendar-Month?\" data-toc-modified-id=\"What-is-the-average-Close-for-each-Calendar-Month?-1.1.0.12\"><span class=\"toc-item-num\">1.1.0.12&nbsp;&nbsp;</span>What is the average Close for each Calendar Month?</a></span></li><li><span><a href=\"#In-other-words,-across-all-the-years,-what-is-the-average-Close-price-for-Jan,Feb,-Mar,-etc...-Your-result-will-have-a-value-for-each-of-these-months.\" data-toc-modified-id=\"In-other-words,-across-all-the-years,-what-is-the-average-Close-price-for-Jan,Feb,-Mar,-etc...-Your-result-will-have-a-value-for-each-of-these-months.-1.1.0.13\"><span class=\"toc-item-num\">1.1.0.13&nbsp;&nbsp;</span>In other words, across all the years, what is the average Close price for Jan,Feb, Mar, etc... Your result will have a value for each of these months.</a></span></li></ul></li></ul></li></ul></li><li><span><a href=\"#Great-Job!\" data-toc-modified-id=\"Great-Job!-2\"><span class=\"toc-item-num\">2&nbsp;&nbsp;</span>Great Job!</a></span></li><li><span><a href=\"#Extra-Examples\" data-toc-modified-id=\"Extra-Examples-3\"><span class=\"toc-item-num\">3&nbsp;&nbsp;</span>Extra Examples</a></span></li></ul></div>"
   ]
  },
  {
   "cell_type": "markdown",
   "metadata": {},
   "source": [
    "# Spark DataFrames Project Exercise "
   ]
  },
  {
   "cell_type": "markdown",
   "metadata": {},
   "source": [
    "Let's get some quick practice with your new Spark DataFrame skills, you will be asked some basic questions about some stock market data, in this case Walmart Stock from the years 2012-2017. This exercise will just ask a bunch of questions, unlike the future machine learning exercises, which will be a little looser and be in the form of \"Consulting Projects\", but more on that later!\n",
    "\n",
    "For now, just answer the questions and complete the tasks below."
   ]
  },
  {
   "cell_type": "markdown",
   "metadata": {},
   "source": [
    "#### Use the walmart_stock.csv file to Answer and complete the  tasks below!"
   ]
  },
  {
   "cell_type": "markdown",
   "metadata": {},
   "source": [
    "#### Start a simple Spark Session"
   ]
  },
  {
   "cell_type": "code",
   "execution_count": 1,
   "metadata": {
    "ExecuteTime": {
     "end_time": "2019-09-29T19:42:14.998656Z",
     "start_time": "2019-09-29T19:42:09.485548Z"
    }
   },
   "outputs": [
    {
     "name": "stdout",
     "output_type": "stream",
     "text": [
      "[('numpy', '1.17.1'), ('pandas', '0.25.1'), ('pyspark', '2.4.4')]\n"
     ]
    }
   ],
   "source": [
    "import numpy as np\n",
    "import pandas as pd\n",
    "import pyspark\n",
    "from pyspark import SparkConf, SparkContext, SQLContext\n",
    "from pyspark.sql import SparkSession\n",
    "from pyspark.sql.functions import udf # @udf(\"integer\") def myfunc(x,y): return x - y\n",
    "from pyspark.sql import functions as F # stddev format_number date_format, dayofyear, when\n",
    "from pyspark.sql.types import StructField, StringType, IntegerType, StructType\n",
    "\n",
    "print([(x.__name__,x.__version__) for x in [np, pd, pyspark]])\n",
    "\n",
    "spark = pyspark.sql.SparkSession.builder.appName('bhishan').getOrCreate()\n",
    "sc = spark.sparkContext\n",
    "sqlContext = SQLContext(sc)\n",
    "sc.setLogLevel(\"INFO\")"
   ]
  },
  {
   "cell_type": "markdown",
   "metadata": {},
   "source": [
    "#### Load the Walmart Stock CSV File, have Spark infer the data types."
   ]
  },
  {
   "cell_type": "code",
   "execution_count": 2,
   "metadata": {
    "ExecuteTime": {
     "end_time": "2019-09-29T19:42:15.150658Z",
     "start_time": "2019-09-29T19:42:15.000447Z"
    }
   },
   "outputs": [
    {
     "name": "stdout",
     "output_type": "stream",
     "text": [
      "Date,Open,High,Low,Close,Volume,Adj Close\r\n",
      "2012-01-03,59.970001,61.060001,59.869999,60.330002,12668800,52.619234999999996\r\n",
      "2012-01-04,60.209998999999996,60.349998,59.470001,59.709998999999996,9593300,52.078475\r\n"
     ]
    }
   ],
   "source": [
    "!head -3 ../data/walmart_stock.csv"
   ]
  },
  {
   "cell_type": "code",
   "execution_count": 3,
   "metadata": {
    "ExecuteTime": {
     "end_time": "2019-09-29T19:42:19.231533Z",
     "start_time": "2019-09-29T19:42:15.152514Z"
    }
   },
   "outputs": [],
   "source": [
    "df = spark.read.csv('../data/walmart_stock.csv',inferSchema=True, header=True)"
   ]
  },
  {
   "cell_type": "markdown",
   "metadata": {},
   "source": [
    "#### What are the column names?"
   ]
  },
  {
   "cell_type": "code",
   "execution_count": 4,
   "metadata": {
    "ExecuteTime": {
     "end_time": "2019-09-29T19:42:19.319563Z",
     "start_time": "2019-09-29T19:42:19.233383Z"
    }
   },
   "outputs": [
    {
     "data": {
      "text/plain": [
       "['Date', 'Open', 'High', 'Low', 'Close', 'Volume', 'Adj Close']"
      ]
     },
     "execution_count": 4,
     "metadata": {},
     "output_type": "execute_result"
    }
   ],
   "source": [
    "df.columns"
   ]
  },
  {
   "cell_type": "markdown",
   "metadata": {},
   "source": [
    "#### What does the Schema look like?"
   ]
  },
  {
   "cell_type": "code",
   "execution_count": 5,
   "metadata": {
    "ExecuteTime": {
     "end_time": "2019-09-29T19:42:19.327066Z",
     "start_time": "2019-09-29T19:42:19.320886Z"
    }
   },
   "outputs": [
    {
     "name": "stdout",
     "output_type": "stream",
     "text": [
      "root\n",
      " |-- Date: timestamp (nullable = true)\n",
      " |-- Open: double (nullable = true)\n",
      " |-- High: double (nullable = true)\n",
      " |-- Low: double (nullable = true)\n",
      " |-- Close: double (nullable = true)\n",
      " |-- Volume: integer (nullable = true)\n",
      " |-- Adj Close: double (nullable = true)\n",
      "\n"
     ]
    }
   ],
   "source": [
    "df.printSchema()"
   ]
  },
  {
   "cell_type": "markdown",
   "metadata": {},
   "source": [
    "#### Print out the first 5 columns."
   ]
  },
  {
   "cell_type": "code",
   "execution_count": 6,
   "metadata": {
    "ExecuteTime": {
     "end_time": "2019-09-29T19:42:19.612135Z",
     "start_time": "2019-09-29T19:42:19.329836Z"
    }
   },
   "outputs": [
    {
     "data": {
      "text/plain": [
       "[Row(Date=datetime.datetime(2012, 1, 3, 0, 0), Open=59.970001, High=61.060001, Low=59.869999, Close=60.330002, Volume=12668800, Adj Close=52.619234999999996),\n",
       " Row(Date=datetime.datetime(2012, 1, 4, 0, 0), Open=60.209998999999996, High=60.349998, Low=59.470001, Close=59.709998999999996, Volume=9593300, Adj Close=52.078475),\n",
       " Row(Date=datetime.datetime(2012, 1, 5, 0, 0), Open=59.349998, High=59.619999, Low=58.369999, Close=59.419998, Volume=12768200, Adj Close=51.825539),\n",
       " Row(Date=datetime.datetime(2012, 1, 6, 0, 0), Open=59.419998, High=59.450001, Low=58.869999, Close=59.0, Volume=8069400, Adj Close=51.45922),\n",
       " Row(Date=datetime.datetime(2012, 1, 9, 0, 0), Open=59.029999, High=59.549999, Low=58.919998, Close=59.18, Volume=6679300, Adj Close=51.616215000000004)]"
      ]
     },
     "execution_count": 6,
     "metadata": {},
     "output_type": "execute_result"
    }
   ],
   "source": [
    "df.head(5)"
   ]
  },
  {
   "cell_type": "code",
   "execution_count": 7,
   "metadata": {
    "ExecuteTime": {
     "end_time": "2019-09-29T19:42:19.865173Z",
     "start_time": "2019-09-29T19:42:19.615236Z"
    }
   },
   "outputs": [
    {
     "name": "stdout",
     "output_type": "stream",
     "text": [
      "+-------------------+------------------+---------+---------+------------------+--------+------------------+\n",
      "|               Date|              Open|     High|      Low|             Close|  Volume|         Adj Close|\n",
      "+-------------------+------------------+---------+---------+------------------+--------+------------------+\n",
      "|2012-01-03 00:00:00|         59.970001|61.060001|59.869999|         60.330002|12668800|52.619234999999996|\n",
      "|2012-01-04 00:00:00|60.209998999999996|60.349998|59.470001|59.709998999999996| 9593300|         52.078475|\n",
      "|2012-01-05 00:00:00|         59.349998|59.619999|58.369999|         59.419998|12768200|         51.825539|\n",
      "|2012-01-06 00:00:00|         59.419998|59.450001|58.869999|              59.0| 8069400|          51.45922|\n",
      "|2012-01-09 00:00:00|         59.029999|59.549999|58.919998|             59.18| 6679300|51.616215000000004|\n",
      "+-------------------+------------------+---------+---------+------------------+--------+------------------+\n",
      "only showing top 5 rows\n",
      "\n"
     ]
    }
   ],
   "source": [
    "df.show(5)"
   ]
  },
  {
   "cell_type": "code",
   "execution_count": 8,
   "metadata": {
    "ExecuteTime": {
     "end_time": "2019-09-29T19:42:20.075976Z",
     "start_time": "2019-09-29T19:42:19.866755Z"
    }
   },
   "outputs": [
    {
     "data": {
      "text/html": [
       "<div>\n",
       "<style scoped>\n",
       "    .dataframe tbody tr th:only-of-type {\n",
       "        vertical-align: middle;\n",
       "    }\n",
       "\n",
       "    .dataframe tbody tr th {\n",
       "        vertical-align: top;\n",
       "    }\n",
       "\n",
       "    .dataframe thead th {\n",
       "        text-align: right;\n",
       "    }\n",
       "</style>\n",
       "<table border=\"1\" class=\"dataframe\">\n",
       "  <thead>\n",
       "    <tr style=\"text-align: right;\">\n",
       "      <th></th>\n",
       "      <th>Date</th>\n",
       "      <th>Open</th>\n",
       "      <th>High</th>\n",
       "      <th>Low</th>\n",
       "      <th>Close</th>\n",
       "      <th>Volume</th>\n",
       "      <th>Adj Close</th>\n",
       "    </tr>\n",
       "  </thead>\n",
       "  <tbody>\n",
       "    <tr>\n",
       "      <td>0</td>\n",
       "      <td>2012-01-03</td>\n",
       "      <td>59.970001</td>\n",
       "      <td>61.060001</td>\n",
       "      <td>59.869999</td>\n",
       "      <td>60.330002</td>\n",
       "      <td>12668800</td>\n",
       "      <td>52.619235</td>\n",
       "    </tr>\n",
       "    <tr>\n",
       "      <td>1</td>\n",
       "      <td>2012-01-04</td>\n",
       "      <td>60.209999</td>\n",
       "      <td>60.349998</td>\n",
       "      <td>59.470001</td>\n",
       "      <td>59.709999</td>\n",
       "      <td>9593300</td>\n",
       "      <td>52.078475</td>\n",
       "    </tr>\n",
       "    <tr>\n",
       "      <td>2</td>\n",
       "      <td>2012-01-05</td>\n",
       "      <td>59.349998</td>\n",
       "      <td>59.619999</td>\n",
       "      <td>58.369999</td>\n",
       "      <td>59.419998</td>\n",
       "      <td>12768200</td>\n",
       "      <td>51.825539</td>\n",
       "    </tr>\n",
       "    <tr>\n",
       "      <td>3</td>\n",
       "      <td>2012-01-06</td>\n",
       "      <td>59.419998</td>\n",
       "      <td>59.450001</td>\n",
       "      <td>58.869999</td>\n",
       "      <td>59.000000</td>\n",
       "      <td>8069400</td>\n",
       "      <td>51.459220</td>\n",
       "    </tr>\n",
       "    <tr>\n",
       "      <td>4</td>\n",
       "      <td>2012-01-09</td>\n",
       "      <td>59.029999</td>\n",
       "      <td>59.549999</td>\n",
       "      <td>58.919998</td>\n",
       "      <td>59.180000</td>\n",
       "      <td>6679300</td>\n",
       "      <td>51.616215</td>\n",
       "    </tr>\n",
       "  </tbody>\n",
       "</table>\n",
       "</div>"
      ],
      "text/plain": [
       "        Date       Open       High        Low      Close    Volume  Adj Close\n",
       "0 2012-01-03  59.970001  61.060001  59.869999  60.330002  12668800  52.619235\n",
       "1 2012-01-04  60.209999  60.349998  59.470001  59.709999   9593300  52.078475\n",
       "2 2012-01-05  59.349998  59.619999  58.369999  59.419998  12768200  51.825539\n",
       "3 2012-01-06  59.419998  59.450001  58.869999  59.000000   8069400  51.459220\n",
       "4 2012-01-09  59.029999  59.549999  58.919998  59.180000   6679300  51.616215"
      ]
     },
     "execution_count": 8,
     "metadata": {},
     "output_type": "execute_result"
    }
   ],
   "source": [
    "df.limit(5).toPandas()"
   ]
  },
  {
   "cell_type": "markdown",
   "metadata": {},
   "source": [
    "#### Use describe() to learn about the DataFrame."
   ]
  },
  {
   "cell_type": "code",
   "execution_count": 9,
   "metadata": {
    "ExecuteTime": {
     "end_time": "2019-09-29T19:42:21.020022Z",
     "start_time": "2019-09-29T19:42:20.077450Z"
    }
   },
   "outputs": [
    {
     "name": "stdout",
     "output_type": "stream",
     "text": [
      "+-------+------------------+-----------------+-----------------+-----------------+-----------------+-----------------+\n",
      "|summary|              Open|             High|              Low|            Close|           Volume|        Adj Close|\n",
      "+-------+------------------+-----------------+-----------------+-----------------+-----------------+-----------------+\n",
      "|  count|              1258|             1258|             1258|             1258|             1258|             1258|\n",
      "|   mean| 72.35785375357709|72.83938807631165| 71.9186009594594|72.38844998012726|8222093.481717011|67.23883848728146|\n",
      "| stddev|  6.76809024470826|6.768186808159218|6.744075756255496|6.756859163732991|  4519780.8431556|6.722609449996857|\n",
      "|    min|56.389998999999996|        57.060001|        56.299999|        56.419998|          2094900|        50.363689|\n",
      "|    max|         90.800003|        90.970001|            89.25|        90.470001|         80898100|84.91421600000001|\n",
      "+-------+------------------+-----------------+-----------------+-----------------+-----------------+-----------------+\n",
      "\n"
     ]
    }
   ],
   "source": [
    "df.describe().show()"
   ]
  },
  {
   "cell_type": "code",
   "execution_count": 10,
   "metadata": {
    "ExecuteTime": {
     "end_time": "2019-09-29T19:42:21.315736Z",
     "start_time": "2019-09-29T19:42:21.021910Z"
    }
   },
   "outputs": [
    {
     "data": {
      "text/html": [
       "<div>\n",
       "<style scoped>\n",
       "    .dataframe tbody tr th:only-of-type {\n",
       "        vertical-align: middle;\n",
       "    }\n",
       "\n",
       "    .dataframe tbody tr th {\n",
       "        vertical-align: top;\n",
       "    }\n",
       "\n",
       "    .dataframe thead th {\n",
       "        text-align: right;\n",
       "    }\n",
       "</style>\n",
       "<table border=\"1\" class=\"dataframe\">\n",
       "  <thead>\n",
       "    <tr style=\"text-align: right;\">\n",
       "      <th></th>\n",
       "      <th>summary</th>\n",
       "      <th>Open</th>\n",
       "      <th>High</th>\n",
       "      <th>Low</th>\n",
       "      <th>Close</th>\n",
       "      <th>Volume</th>\n",
       "      <th>Adj Close</th>\n",
       "    </tr>\n",
       "  </thead>\n",
       "  <tbody>\n",
       "    <tr>\n",
       "      <td>0</td>\n",
       "      <td>count</td>\n",
       "      <td>1258</td>\n",
       "      <td>1258</td>\n",
       "      <td>1258</td>\n",
       "      <td>1258</td>\n",
       "      <td>1258</td>\n",
       "      <td>1258</td>\n",
       "    </tr>\n",
       "    <tr>\n",
       "      <td>1</td>\n",
       "      <td>mean</td>\n",
       "      <td>72.35785375357709</td>\n",
       "      <td>72.83938807631165</td>\n",
       "      <td>71.9186009594594</td>\n",
       "      <td>72.38844998012726</td>\n",
       "      <td>8222093.481717011</td>\n",
       "      <td>67.23883848728146</td>\n",
       "    </tr>\n",
       "    <tr>\n",
       "      <td>2</td>\n",
       "      <td>stddev</td>\n",
       "      <td>6.76809024470826</td>\n",
       "      <td>6.768186808159218</td>\n",
       "      <td>6.744075756255496</td>\n",
       "      <td>6.756859163732991</td>\n",
       "      <td>4519780.8431556</td>\n",
       "      <td>6.722609449996857</td>\n",
       "    </tr>\n",
       "    <tr>\n",
       "      <td>3</td>\n",
       "      <td>min</td>\n",
       "      <td>56.389998999999996</td>\n",
       "      <td>57.060001</td>\n",
       "      <td>56.299999</td>\n",
       "      <td>56.419998</td>\n",
       "      <td>2094900</td>\n",
       "      <td>50.363689</td>\n",
       "    </tr>\n",
       "    <tr>\n",
       "      <td>4</td>\n",
       "      <td>max</td>\n",
       "      <td>90.800003</td>\n",
       "      <td>90.970001</td>\n",
       "      <td>89.25</td>\n",
       "      <td>90.470001</td>\n",
       "      <td>80898100</td>\n",
       "      <td>84.91421600000001</td>\n",
       "    </tr>\n",
       "  </tbody>\n",
       "</table>\n",
       "</div>"
      ],
      "text/plain": [
       "  summary                Open               High                Low  \\\n",
       "0   count                1258               1258               1258   \n",
       "1    mean   72.35785375357709  72.83938807631165   71.9186009594594   \n",
       "2  stddev    6.76809024470826  6.768186808159218  6.744075756255496   \n",
       "3     min  56.389998999999996          57.060001          56.299999   \n",
       "4     max           90.800003          90.970001              89.25   \n",
       "\n",
       "               Close             Volume          Adj Close  \n",
       "0               1258               1258               1258  \n",
       "1  72.38844998012726  8222093.481717011  67.23883848728146  \n",
       "2  6.756859163732991    4519780.8431556  6.722609449996857  \n",
       "3          56.419998            2094900          50.363689  \n",
       "4          90.470001           80898100  84.91421600000001  "
      ]
     },
     "execution_count": 10,
     "metadata": {},
     "output_type": "execute_result"
    }
   ],
   "source": [
    "df.describe().toPandas()"
   ]
  },
  {
   "cell_type": "markdown",
   "metadata": {},
   "source": [
    "## Bonus Question!\n",
    "#### There are too many decimal places for mean and stddev in the describe() dataframe. Format the numbers to just show up to two decimal places. Pay careful attention to the datatypes that .describe() returns, we didn't cover how to do this exact formatting, but we covered something very similar. [Check this link for a hint](http://spark.apache.org/docs/latest/api/python/pyspark.sql.html#pyspark.sql.Column.cast)\n",
    "\n",
    "If you get stuck on this, don't worry, just view the solutions."
   ]
  },
  {
   "cell_type": "code",
   "execution_count": 11,
   "metadata": {
    "ExecuteTime": {
     "end_time": "2019-09-29T19:42:21.595095Z",
     "start_time": "2019-09-29T19:42:21.318151Z"
    }
   },
   "outputs": [
    {
     "name": "stdout",
     "output_type": "stream",
     "text": [
      "root\n",
      " |-- summary: string (nullable = true)\n",
      " |-- Open: string (nullable = true)\n",
      " |-- High: string (nullable = true)\n",
      " |-- Low: string (nullable = true)\n",
      " |-- Close: string (nullable = true)\n",
      " |-- Volume: string (nullable = true)\n",
      " |-- Adj Close: string (nullable = true)\n",
      "\n"
     ]
    }
   ],
   "source": [
    "summary = df.describe()\n",
    "summary.printSchema()"
   ]
  },
  {
   "cell_type": "code",
   "execution_count": 12,
   "metadata": {
    "ExecuteTime": {
     "end_time": "2019-09-29T19:42:22.198883Z",
     "start_time": "2019-09-29T19:42:21.597349Z"
    }
   },
   "outputs": [
    {
     "name": "stdout",
     "output_type": "stream",
     "text": [
      "+-------+--------+--------+--------+--------+--------+\n",
      "|summary|    Open|    High|     Low|   Close|  Volume|\n",
      "+-------+--------+--------+--------+--------+--------+\n",
      "|  count|1,258.00|1,258.00|1,258.00|1,258.00|    1258|\n",
      "|   mean|   72.36|   72.84|   71.92|   72.39| 8222093|\n",
      "| stddev|    6.77|    6.77|    6.74|    6.76| 4519780|\n",
      "|    min|   56.39|   57.06|   56.30|   56.42| 2094900|\n",
      "|    max|   90.80|   90.97|   89.25|   90.47|80898100|\n",
      "+-------+--------+--------+--------+--------+--------+\n",
      "\n"
     ]
    }
   ],
   "source": [
    "from pyspark.sql.functions import format_number\n",
    "\n",
    "result = df.describe()\n",
    "result.select(result['summary'],\n",
    "              format_number(result['Open'].cast('float'),2).alias('Open'),\n",
    "              format_number(result['High'].cast('float'),2).alias('High'),\n",
    "              format_number(result['Low'].cast('float'),2).alias('Low'),\n",
    "              format_number(result['Close'].cast('float'),2).alias('Close'),\n",
    "              result['Volume'].cast('int').alias('Volume')\n",
    "             ).show()"
   ]
  },
  {
   "cell_type": "code",
   "execution_count": 13,
   "metadata": {
    "ExecuteTime": {
     "end_time": "2019-09-29T19:42:22.518745Z",
     "start_time": "2019-09-29T19:42:22.200784Z"
    }
   },
   "outputs": [
    {
     "name": "stdout",
     "output_type": "stream",
     "text": [
      "+-------+--------+--------+--------+--------+-------------+---------+\n",
      "|summary|    Open|    High|     Low|   Close|       Volume|Adj Close|\n",
      "+-------+--------+--------+--------+--------+-------------+---------+\n",
      "|  count|1,258.00|1,258.00|1,258.00|1,258.00|     1,258.00| 1,258.00|\n",
      "|   mean|   72.36|   72.84|   71.92|   72.39| 8,222,093.50|    67.24|\n",
      "| stddev|    6.77|    6.77|    6.74|    6.76| 4,519,781.00|     6.72|\n",
      "|    min|   56.39|   57.06|   56.30|   56.42| 2,094,900.00|    50.36|\n",
      "|    max|   90.80|   90.97|   89.25|   90.47|80,898,096.00|    84.91|\n",
      "+-------+--------+--------+--------+--------+-------------+---------+\n",
      "\n"
     ]
    }
   ],
   "source": [
    "result = df.describe()\n",
    "result.select( [result['summary']] +\n",
    "              \n",
    "               [format_number(result[x].cast('float'),2).alias(x) \n",
    "               for x in result.columns if x !='summary']\n",
    "             ).show()"
   ]
  },
  {
   "cell_type": "code",
   "execution_count": 14,
   "metadata": {
    "ExecuteTime": {
     "end_time": "2019-09-29T19:42:22.763022Z",
     "start_time": "2019-09-29T19:42:22.521042Z"
    }
   },
   "outputs": [
    {
     "name": "stdout",
     "output_type": "stream",
     "text": [
      "+-------+------------------+-----------------+-----------------+-----------------+-----------------+-----------------+\n",
      "|summary|              Open|             High|              Low|            Close|           Volume|        Adj Close|\n",
      "+-------+------------------+-----------------+-----------------+-----------------+-----------------+-----------------+\n",
      "|  count|              1258|             1258|             1258|             1258|             1258|             1258|\n",
      "|   mean| 72.35785375357709|72.83938807631165| 71.9186009594594|72.38844998012726|8222093.481717011|67.23883848728146|\n",
      "| stddev|  6.76809024470826|6.768186808159218|6.744075756255496|6.756859163732991|  4519780.8431556|6.722609449996857|\n",
      "|    min|56.389998999999996|        57.060001|        56.299999|        56.419998|          2094900|        50.363689|\n",
      "|    max|         90.800003|        90.970001|            89.25|        90.470001|         80898100|84.91421600000001|\n",
      "+-------+------------------+-----------------+-----------------+-----------------+-----------------+-----------------+\n",
      "\n"
     ]
    }
   ],
   "source": [
    "df.describe().show()"
   ]
  },
  {
   "cell_type": "code",
   "execution_count": 15,
   "metadata": {
    "ExecuteTime": {
     "end_time": "2019-09-29T19:42:23.066954Z",
     "start_time": "2019-09-29T19:42:22.765088Z"
    }
   },
   "outputs": [
    {
     "data": {
      "text/html": [
       "<div>\n",
       "<style scoped>\n",
       "    .dataframe tbody tr th:only-of-type {\n",
       "        vertical-align: middle;\n",
       "    }\n",
       "\n",
       "    .dataframe tbody tr th {\n",
       "        vertical-align: top;\n",
       "    }\n",
       "\n",
       "    .dataframe thead th {\n",
       "        text-align: right;\n",
       "    }\n",
       "</style>\n",
       "<table border=\"1\" class=\"dataframe\">\n",
       "  <thead>\n",
       "    <tr style=\"text-align: right;\">\n",
       "      <th></th>\n",
       "      <th>summary</th>\n",
       "      <th>Open</th>\n",
       "      <th>High</th>\n",
       "      <th>Low</th>\n",
       "      <th>Close</th>\n",
       "      <th>Volume</th>\n",
       "      <th>Adj Close</th>\n",
       "    </tr>\n",
       "  </thead>\n",
       "  <tbody>\n",
       "    <tr>\n",
       "      <td>0</td>\n",
       "      <td>count</td>\n",
       "      <td>1258</td>\n",
       "      <td>1258</td>\n",
       "      <td>1258</td>\n",
       "      <td>1258</td>\n",
       "      <td>1258</td>\n",
       "      <td>1258</td>\n",
       "    </tr>\n",
       "    <tr>\n",
       "      <td>1</td>\n",
       "      <td>mean</td>\n",
       "      <td>72.35785375357709</td>\n",
       "      <td>72.83938807631165</td>\n",
       "      <td>71.9186009594594</td>\n",
       "      <td>72.38844998012726</td>\n",
       "      <td>8222093.481717011</td>\n",
       "      <td>67.23883848728146</td>\n",
       "    </tr>\n",
       "    <tr>\n",
       "      <td>2</td>\n",
       "      <td>stddev</td>\n",
       "      <td>6.76809024470826</td>\n",
       "      <td>6.768186808159218</td>\n",
       "      <td>6.744075756255496</td>\n",
       "      <td>6.756859163732991</td>\n",
       "      <td>4519780.8431556</td>\n",
       "      <td>6.722609449996857</td>\n",
       "    </tr>\n",
       "    <tr>\n",
       "      <td>3</td>\n",
       "      <td>min</td>\n",
       "      <td>56.389998999999996</td>\n",
       "      <td>57.060001</td>\n",
       "      <td>56.299999</td>\n",
       "      <td>56.419998</td>\n",
       "      <td>2094900</td>\n",
       "      <td>50.363689</td>\n",
       "    </tr>\n",
       "    <tr>\n",
       "      <td>4</td>\n",
       "      <td>max</td>\n",
       "      <td>90.800003</td>\n",
       "      <td>90.970001</td>\n",
       "      <td>89.25</td>\n",
       "      <td>90.470001</td>\n",
       "      <td>80898100</td>\n",
       "      <td>84.91421600000001</td>\n",
       "    </tr>\n",
       "  </tbody>\n",
       "</table>\n",
       "</div>"
      ],
      "text/plain": [
       "  summary                Open               High                Low  \\\n",
       "0   count                1258               1258               1258   \n",
       "1    mean   72.35785375357709  72.83938807631165   71.9186009594594   \n",
       "2  stddev    6.76809024470826  6.768186808159218  6.744075756255496   \n",
       "3     min  56.389998999999996          57.060001          56.299999   \n",
       "4     max           90.800003          90.970001              89.25   \n",
       "\n",
       "               Close             Volume          Adj Close  \n",
       "0               1258               1258               1258  \n",
       "1  72.38844998012726  8222093.481717011  67.23883848728146  \n",
       "2  6.756859163732991    4519780.8431556  6.722609449996857  \n",
       "3          56.419998            2094900          50.363689  \n",
       "4          90.470001           80898100  84.91421600000001  "
      ]
     },
     "execution_count": 15,
     "metadata": {},
     "output_type": "execute_result"
    }
   ],
   "source": [
    "df.describe().toPandas()"
   ]
  },
  {
   "cell_type": "code",
   "execution_count": 16,
   "metadata": {
    "ExecuteTime": {
     "end_time": "2019-09-29T19:42:23.322074Z",
     "start_time": "2019-09-29T19:42:23.068724Z"
    }
   },
   "outputs": [
    {
     "data": {
      "text/html": [
       "<div>\n",
       "<style scoped>\n",
       "    .dataframe tbody tr th:only-of-type {\n",
       "        vertical-align: middle;\n",
       "    }\n",
       "\n",
       "    .dataframe tbody tr th {\n",
       "        vertical-align: top;\n",
       "    }\n",
       "\n",
       "    .dataframe thead th {\n",
       "        text-align: right;\n",
       "    }\n",
       "</style>\n",
       "<table border=\"1\" class=\"dataframe\">\n",
       "  <thead>\n",
       "    <tr style=\"text-align: right;\">\n",
       "      <th></th>\n",
       "      <th>summary</th>\n",
       "      <th>Open</th>\n",
       "      <th>High</th>\n",
       "      <th>Low</th>\n",
       "      <th>Close</th>\n",
       "      <th>Volume</th>\n",
       "      <th>Adj Close</th>\n",
       "    </tr>\n",
       "  </thead>\n",
       "  <tbody>\n",
       "    <tr>\n",
       "      <td>0</td>\n",
       "      <td>count</td>\n",
       "      <td>1258.00</td>\n",
       "      <td>1258.00</td>\n",
       "      <td>1258.00</td>\n",
       "      <td>1258.00</td>\n",
       "      <td>1258.00</td>\n",
       "      <td>1258.00</td>\n",
       "    </tr>\n",
       "    <tr>\n",
       "      <td>1</td>\n",
       "      <td>mean</td>\n",
       "      <td>72.36</td>\n",
       "      <td>72.84</td>\n",
       "      <td>71.92</td>\n",
       "      <td>72.39</td>\n",
       "      <td>8222093.48</td>\n",
       "      <td>67.24</td>\n",
       "    </tr>\n",
       "    <tr>\n",
       "      <td>2</td>\n",
       "      <td>stddev</td>\n",
       "      <td>6.77</td>\n",
       "      <td>6.77</td>\n",
       "      <td>6.74</td>\n",
       "      <td>6.76</td>\n",
       "      <td>4519780.84</td>\n",
       "      <td>6.72</td>\n",
       "    </tr>\n",
       "    <tr>\n",
       "      <td>3</td>\n",
       "      <td>min</td>\n",
       "      <td>56.39</td>\n",
       "      <td>57.06</td>\n",
       "      <td>56.30</td>\n",
       "      <td>56.42</td>\n",
       "      <td>2094900.00</td>\n",
       "      <td>50.36</td>\n",
       "    </tr>\n",
       "    <tr>\n",
       "      <td>4</td>\n",
       "      <td>max</td>\n",
       "      <td>90.80</td>\n",
       "      <td>90.97</td>\n",
       "      <td>89.25</td>\n",
       "      <td>90.47</td>\n",
       "      <td>80898100.00</td>\n",
       "      <td>84.91</td>\n",
       "    </tr>\n",
       "  </tbody>\n",
       "</table>\n",
       "</div>"
      ],
      "text/plain": [
       "  summary     Open     High      Low    Close       Volume  Adj Close\n",
       "0   count  1258.00  1258.00  1258.00  1258.00      1258.00    1258.00\n",
       "1    mean    72.36    72.84    71.92    72.39   8222093.48      67.24\n",
       "2  stddev     6.77     6.77     6.74     6.76   4519780.84       6.72\n",
       "3     min    56.39    57.06    56.30    56.42   2094900.00      50.36\n",
       "4     max    90.80    90.97    89.25    90.47  80898100.00      84.91"
      ]
     },
     "execution_count": 16,
     "metadata": {},
     "output_type": "execute_result"
    }
   ],
   "source": [
    "df_good = df.describe().toPandas()\n",
    "df_good = pd.concat( [df_good.iloc[:, 0], df_good.iloc[:, 1:].astype(float).round(2)], axis=1)\n",
    "\n",
    "df_good"
   ]
  },
  {
   "cell_type": "code",
   "execution_count": 17,
   "metadata": {
    "ExecuteTime": {
     "end_time": "2019-09-29T19:42:23.524001Z",
     "start_time": "2019-09-29T19:42:23.324752Z"
    }
   },
   "outputs": [
    {
     "data": {
      "text/html": [
       "<div>\n",
       "<style scoped>\n",
       "    .dataframe tbody tr th:only-of-type {\n",
       "        vertical-align: middle;\n",
       "    }\n",
       "\n",
       "    .dataframe tbody tr th {\n",
       "        vertical-align: top;\n",
       "    }\n",
       "\n",
       "    .dataframe thead th {\n",
       "        text-align: right;\n",
       "    }\n",
       "</style>\n",
       "<table border=\"1\" class=\"dataframe\">\n",
       "  <thead>\n",
       "    <tr style=\"text-align: right;\">\n",
       "      <th></th>\n",
       "      <th>summary</th>\n",
       "      <th>Open</th>\n",
       "      <th>High</th>\n",
       "      <th>Low</th>\n",
       "      <th>Close</th>\n",
       "      <th>Volume</th>\n",
       "      <th>Adj Close</th>\n",
       "    </tr>\n",
       "  </thead>\n",
       "  <tbody>\n",
       "    <tr>\n",
       "      <td>0</td>\n",
       "      <td>count</td>\n",
       "      <td>1258.00</td>\n",
       "      <td>1258.00</td>\n",
       "      <td>1258.00</td>\n",
       "      <td>1258.00</td>\n",
       "      <td>1258.00</td>\n",
       "      <td>1258.00</td>\n",
       "    </tr>\n",
       "    <tr>\n",
       "      <td>1</td>\n",
       "      <td>mean</td>\n",
       "      <td>72.36</td>\n",
       "      <td>72.84</td>\n",
       "      <td>71.92</td>\n",
       "      <td>72.39</td>\n",
       "      <td>8222093.48</td>\n",
       "      <td>67.24</td>\n",
       "    </tr>\n",
       "    <tr>\n",
       "      <td>2</td>\n",
       "      <td>stddev</td>\n",
       "      <td>6.77</td>\n",
       "      <td>6.77</td>\n",
       "      <td>6.74</td>\n",
       "      <td>6.76</td>\n",
       "      <td>4519780.84</td>\n",
       "      <td>6.72</td>\n",
       "    </tr>\n",
       "    <tr>\n",
       "      <td>3</td>\n",
       "      <td>min</td>\n",
       "      <td>56.39</td>\n",
       "      <td>57.06</td>\n",
       "      <td>56.30</td>\n",
       "      <td>56.42</td>\n",
       "      <td>2094900.00</td>\n",
       "      <td>50.36</td>\n",
       "    </tr>\n",
       "    <tr>\n",
       "      <td>4</td>\n",
       "      <td>max</td>\n",
       "      <td>90.80</td>\n",
       "      <td>90.97</td>\n",
       "      <td>89.25</td>\n",
       "      <td>90.47</td>\n",
       "      <td>80898100.00</td>\n",
       "      <td>84.91</td>\n",
       "    </tr>\n",
       "  </tbody>\n",
       "</table>\n",
       "</div>"
      ],
      "text/plain": [
       "  summary     Open     High      Low    Close       Volume  Adj Close\n",
       "0   count  1258.00  1258.00  1258.00  1258.00      1258.00    1258.00\n",
       "1    mean    72.36    72.84    71.92    72.39   8222093.48      67.24\n",
       "2  stddev     6.77     6.77     6.74     6.76   4519780.84       6.72\n",
       "3     min    56.39    57.06    56.30    56.42   2094900.00      50.36\n",
       "4     max    90.80    90.97    89.25    90.47  80898100.00      84.91"
      ]
     },
     "execution_count": 17,
     "metadata": {},
     "output_type": "execute_result"
    }
   ],
   "source": [
    "df.describe().toPandas().applymap(lambda x: round(float(x),2)\n",
    "  if x.replace('.','').isnumeric() else x)"
   ]
  },
  {
   "cell_type": "markdown",
   "metadata": {},
   "source": [
    "#### Create a new dataframe with a column called HV Ratio that is the ratio of the High Price versus volume of stock traded for a day."
   ]
  },
  {
   "cell_type": "code",
   "execution_count": 18,
   "metadata": {
    "ExecuteTime": {
     "end_time": "2019-09-29T19:42:23.690936Z",
     "start_time": "2019-09-29T19:42:23.526606Z"
    }
   },
   "outputs": [
    {
     "name": "stdout",
     "output_type": "stream",
     "text": [
      "+-------------------+------------------+---------+---------+------------------+--------+------------------+\n",
      "|               Date|              Open|     High|      Low|             Close|  Volume|         Adj Close|\n",
      "+-------------------+------------------+---------+---------+------------------+--------+------------------+\n",
      "|2012-01-03 00:00:00|         59.970001|61.060001|59.869999|         60.330002|12668800|52.619234999999996|\n",
      "|2012-01-04 00:00:00|60.209998999999996|60.349998|59.470001|59.709998999999996| 9593300|         52.078475|\n",
      "|2012-01-05 00:00:00|         59.349998|59.619999|58.369999|         59.419998|12768200|         51.825539|\n",
      "|2012-01-06 00:00:00|         59.419998|59.450001|58.869999|              59.0| 8069400|          51.45922|\n",
      "|2012-01-09 00:00:00|         59.029999|59.549999|58.919998|             59.18| 6679300|51.616215000000004|\n",
      "+-------------------+------------------+---------+---------+------------------+--------+------------------+\n",
      "only showing top 5 rows\n",
      "\n"
     ]
    }
   ],
   "source": [
    "df.show(5)"
   ]
  },
  {
   "cell_type": "code",
   "execution_count": 19,
   "metadata": {
    "ExecuteTime": {
     "end_time": "2019-09-29T19:42:23.897792Z",
     "start_time": "2019-09-29T19:42:23.692771Z"
    }
   },
   "outputs": [
    {
     "data": {
      "text/plain": [
       "1258"
      ]
     },
     "execution_count": 19,
     "metadata": {},
     "output_type": "execute_result"
    }
   ],
   "source": [
    "df.count() # total rows"
   ]
  },
  {
   "cell_type": "code",
   "execution_count": 20,
   "metadata": {
    "ExecuteTime": {
     "end_time": "2019-09-29T19:42:26.570058Z",
     "start_time": "2019-09-29T19:42:23.899310Z"
    }
   },
   "outputs": [
    {
     "data": {
      "text/plain": [
       "1258"
      ]
     },
     "execution_count": 20,
     "metadata": {},
     "output_type": "execute_result"
    }
   ],
   "source": [
    "df.select('Date').distinct().count() # total distinct rows"
   ]
  },
  {
   "cell_type": "code",
   "execution_count": 21,
   "metadata": {
    "ExecuteTime": {
     "end_time": "2019-09-29T19:42:26.776905Z",
     "start_time": "2019-09-29T19:42:26.576179Z"
    }
   },
   "outputs": [
    {
     "name": "stdout",
     "output_type": "stream",
     "text": [
      "+-------------------+---------+---------+---------+---------+--------+------------------+--------------------+\n",
      "|               Date|     Open|     High|      Low|    Close|  Volume|         Adj Close|            HV Ratio|\n",
      "+-------------------+---------+---------+---------+---------+--------+------------------+--------------------+\n",
      "|2012-01-03 00:00:00|59.970001|61.060001|59.869999|60.330002|12668800|52.619234999999996|4.819714653321546E-6|\n",
      "+-------------------+---------+---------+---------+---------+--------+------------------+--------------------+\n",
      "only showing top 1 row\n",
      "\n"
     ]
    }
   ],
   "source": [
    "# I do not have to do groupBy, just to division\n",
    "\n",
    "df.withColumn(\"HV Ratio\", df.High / df.Volume).show(1)"
   ]
  },
  {
   "cell_type": "markdown",
   "metadata": {},
   "source": [
    "#### What day had the Peak High in Price?"
   ]
  },
  {
   "cell_type": "code",
   "execution_count": 22,
   "metadata": {
    "ExecuteTime": {
     "end_time": "2019-09-29T19:42:27.147370Z",
     "start_time": "2019-09-29T19:42:26.779081Z"
    }
   },
   "outputs": [
    {
     "name": "stdout",
     "output_type": "stream",
     "text": [
      "+-------------------+---------+---------+-----+---------+-------+---------+\n",
      "|               Date|     Open|     High|  Low|    Close| Volume|Adj Close|\n",
      "+-------------------+---------+---------+-----+---------+-------+---------+\n",
      "|2015-01-13 00:00:00|90.800003|90.970001|88.93|89.309998|8215400|83.825448|\n",
      "+-------------------+---------+---------+-----+---------+-------+---------+\n",
      "\n"
     ]
    }
   ],
   "source": [
    "df.orderBy(F.desc('High')).limit(1).show() # or, take(1)"
   ]
  },
  {
   "cell_type": "code",
   "execution_count": 23,
   "metadata": {
    "ExecuteTime": {
     "end_time": "2019-09-29T19:42:27.297500Z",
     "start_time": "2019-09-29T19:42:27.149077Z"
    }
   },
   "outputs": [
    {
     "data": {
      "text/plain": [
       "datetime.datetime(2015, 1, 13, 0, 0)"
      ]
     },
     "execution_count": 23,
     "metadata": {},
     "output_type": "execute_result"
    }
   ],
   "source": [
    "df.orderBy(df['High'].desc()).head(1)[0][0]"
   ]
  },
  {
   "cell_type": "markdown",
   "metadata": {},
   "source": [
    "#### What is the mean of the Close column?"
   ]
  },
  {
   "cell_type": "code",
   "execution_count": 24,
   "metadata": {
    "ExecuteTime": {
     "end_time": "2019-09-29T19:42:27.495278Z",
     "start_time": "2019-09-29T19:42:27.301812Z"
    }
   },
   "outputs": [
    {
     "name": "stdout",
     "output_type": "stream",
     "text": [
      "+-----------------+\n",
      "|       avg(Close)|\n",
      "+-----------------+\n",
      "|72.38844998012726|\n",
      "+-----------------+\n",
      "\n"
     ]
    }
   ],
   "source": [
    "from pyspark.sql.functions import mean\n",
    "\n",
    "df.select(mean('Close')).show()"
   ]
  },
  {
   "cell_type": "markdown",
   "metadata": {},
   "source": [
    "#### What is the max and min of the Volume column?"
   ]
  },
  {
   "cell_type": "code",
   "execution_count": 25,
   "metadata": {
    "ExecuteTime": {
     "end_time": "2019-09-29T19:42:27.654458Z",
     "start_time": "2019-09-29T19:42:27.497592Z"
    }
   },
   "outputs": [
    {
     "name": "stdout",
     "output_type": "stream",
     "text": [
      "+-----------+-----------+\n",
      "|max(Volume)|min(Volume)|\n",
      "+-----------+-----------+\n",
      "|   80898100|    2094900|\n",
      "+-----------+-----------+\n",
      "\n"
     ]
    }
   ],
   "source": [
    "df.select([F.max(df['Volume']), F.min(df['Volume'])]).show()"
   ]
  },
  {
   "cell_type": "code",
   "execution_count": 26,
   "metadata": {
    "ExecuteTime": {
     "end_time": "2019-09-29T19:42:27.797199Z",
     "start_time": "2019-09-29T19:42:27.656353Z"
    }
   },
   "outputs": [
    {
     "name": "stdout",
     "output_type": "stream",
     "text": [
      "+-----------+-----------+\n",
      "|max(Volume)|min(Volume)|\n",
      "+-----------+-----------+\n",
      "|   80898100|    2094900|\n",
      "+-----------+-----------+\n",
      "\n"
     ]
    }
   ],
   "source": [
    "df.select([x(df['Volume']) \n",
    "           for x in [F.max, F.min ]]).show()"
   ]
  },
  {
   "cell_type": "markdown",
   "metadata": {},
   "source": [
    "#### How many days was the Close lower than 60 dollars?"
   ]
  },
  {
   "cell_type": "code",
   "execution_count": 27,
   "metadata": {
    "ExecuteTime": {
     "end_time": "2019-09-29T19:42:27.951439Z",
     "start_time": "2019-09-29T19:42:27.799546Z"
    }
   },
   "outputs": [
    {
     "data": {
      "text/plain": [
       "81"
      ]
     },
     "execution_count": 27,
     "metadata": {},
     "output_type": "execute_result"
    }
   ],
   "source": [
    "df.filter(df['Close'] < 60).count()"
   ]
  },
  {
   "cell_type": "code",
   "execution_count": 28,
   "metadata": {
    "ExecuteTime": {
     "end_time": "2019-09-29T19:42:28.170847Z",
     "start_time": "2019-09-29T19:42:27.953563Z"
    }
   },
   "outputs": [
    {
     "data": {
      "text/plain": [
       "81"
      ]
     },
     "execution_count": 28,
     "metadata": {},
     "output_type": "execute_result"
    }
   ],
   "source": [
    "df.filter(\"Close < 60\").count()"
   ]
  },
  {
   "cell_type": "code",
   "execution_count": 29,
   "metadata": {
    "ExecuteTime": {
     "end_time": "2019-09-29T19:42:28.366237Z",
     "start_time": "2019-09-29T19:42:28.173359Z"
    }
   },
   "outputs": [
    {
     "name": "stdout",
     "output_type": "stream",
     "text": [
      "+------------+\n",
      "|count(Close)|\n",
      "+------------+\n",
      "|          81|\n",
      "+------------+\n",
      "\n"
     ]
    }
   ],
   "source": [
    "df.filter(\"Close < 60\").select(F.count('Close')).show()"
   ]
  },
  {
   "cell_type": "markdown",
   "metadata": {},
   "source": [
    "#### What percentage of the time was the High greater than 80 dollars ?\n",
    "#### In other words, (Number of Days High>80)/(Total Days in the dataset)"
   ]
  },
  {
   "cell_type": "code",
   "execution_count": 32,
   "metadata": {
    "ExecuteTime": {
     "end_time": "2019-09-29T19:44:10.441614Z",
     "start_time": "2019-09-29T19:44:10.144206Z"
    }
   },
   "outputs": [
    {
     "data": {
      "text/plain": [
       "9.141494435612083"
      ]
     },
     "execution_count": 32,
     "metadata": {},
     "output_type": "execute_result"
    }
   ],
   "source": [
    "(df.filter(\"High > 80\").count()*1.0 / df.count())* 100.0"
   ]
  },
  {
   "cell_type": "markdown",
   "metadata": {},
   "source": [
    "#### What is the Pearson correlation between High and Volume?\n",
    "#### [Hint](http://spark.apache.org/docs/latest/api/python/pyspark.sql.html#pyspark.sql.DataFrameStatFunctions.corr)"
   ]
  },
  {
   "cell_type": "code",
   "execution_count": 33,
   "metadata": {
    "ExecuteTime": {
     "end_time": "2019-09-29T19:44:10.644523Z",
     "start_time": "2019-09-29T19:44:10.443204Z"
    }
   },
   "outputs": [
    {
     "name": "stdout",
     "output_type": "stream",
     "text": [
      "+-------------------+\n",
      "| corr(High, Volume)|\n",
      "+-------------------+\n",
      "|-0.3384326061737161|\n",
      "+-------------------+\n",
      "\n"
     ]
    }
   ],
   "source": [
    "df.select(F.corr(\"High\", \"Volume\")).show()"
   ]
  },
  {
   "cell_type": "markdown",
   "metadata": {},
   "source": [
    "#### What is the max High per year?"
   ]
  },
  {
   "cell_type": "code",
   "execution_count": 34,
   "metadata": {
    "ExecuteTime": {
     "end_time": "2019-09-29T19:44:10.793418Z",
     "start_time": "2019-09-29T19:44:10.646951Z"
    }
   },
   "outputs": [
    {
     "name": "stdout",
     "output_type": "stream",
     "text": [
      "+-------------------+---------+---------+---------+---------+--------+------------------+----+\n",
      "|               Date|     Open|     High|      Low|    Close|  Volume|         Adj Close|Year|\n",
      "+-------------------+---------+---------+---------+---------+--------+------------------+----+\n",
      "|2012-01-03 00:00:00|59.970001|61.060001|59.869999|60.330002|12668800|52.619234999999996|2012|\n",
      "+-------------------+---------+---------+---------+---------+--------+------------------+----+\n",
      "only showing top 1 row\n",
      "\n"
     ]
    }
   ],
   "source": [
    "yeardf = df.withColumn('Year', F.year(\"Date\"))\n",
    "yeardf.show(1)"
   ]
  },
  {
   "cell_type": "code",
   "execution_count": 35,
   "metadata": {
    "ExecuteTime": {
     "end_time": "2019-09-29T19:44:12.446750Z",
     "start_time": "2019-09-29T19:44:10.795408Z"
    }
   },
   "outputs": [
    {
     "name": "stdout",
     "output_type": "stream",
     "text": [
      "+----+-----------------+---------+---------+----------+-----------+-----------------+---------+\n",
      "|Year|        max(Open)|max(High)| max(Low)|max(Close)|max(Volume)|   max(Adj Close)|max(Year)|\n",
      "+----+-----------------+---------+---------+----------+-----------+-----------------+---------+\n",
      "|2015|        90.800003|90.970001|    89.25| 90.470001|   80898100|84.91421600000001|     2015|\n",
      "|2013|        81.209999|81.370003|    80.82| 81.209999|   25683700|        73.929868|     2013|\n",
      "|2014|87.08000200000001|88.089996|86.480003| 87.540001|   22812400|81.70768000000001|     2014|\n",
      "|2012|        77.599998|77.599998|76.690002| 77.150002|   38007300|        68.568371|     2012|\n",
      "|2016|             74.5|75.190002|73.629997| 74.300003|   35076700|        73.233524|     2016|\n",
      "+----+-----------------+---------+---------+----------+-----------+-----------------+---------+\n",
      "\n"
     ]
    }
   ],
   "source": [
    "max_df = yeardf.groupby('Year').max()\n",
    "max_df.show()"
   ]
  },
  {
   "cell_type": "code",
   "execution_count": 36,
   "metadata": {
    "ExecuteTime": {
     "end_time": "2019-09-29T19:44:13.599481Z",
     "start_time": "2019-09-29T19:44:12.450275Z"
    }
   },
   "outputs": [
    {
     "name": "stdout",
     "output_type": "stream",
     "text": [
      "+----+---------+\n",
      "|Year|max(High)|\n",
      "+----+---------+\n",
      "|2015|90.970001|\n",
      "|2013|81.370003|\n",
      "|2014|88.089996|\n",
      "|2012|77.599998|\n",
      "|2016|75.190002|\n",
      "+----+---------+\n",
      "\n"
     ]
    }
   ],
   "source": [
    "max_df.select('Year', 'max(High)').show()"
   ]
  },
  {
   "cell_type": "code",
   "execution_count": 37,
   "metadata": {
    "ExecuteTime": {
     "end_time": "2019-09-29T19:44:14.646478Z",
     "start_time": "2019-09-29T19:44:13.602225Z"
    }
   },
   "outputs": [
    {
     "name": "stdout",
     "output_type": "stream",
     "text": [
      "+----+---------+\n",
      "|Year|max(High)|\n",
      "+----+---------+\n",
      "|2015|90.970001|\n",
      "|2013|81.370003|\n",
      "|2014|88.089996|\n",
      "|2012|77.599998|\n",
      "|2016|75.190002|\n",
      "+----+---------+\n",
      "\n"
     ]
    }
   ],
   "source": [
    "(df.withColumn('Year', F.year('Date'))\n",
    " .groupBy('Year').max()\n",
    " .select('Year', 'max(High)')\n",
    ").show()"
   ]
  },
  {
   "cell_type": "code",
   "execution_count": 38,
   "metadata": {
    "ExecuteTime": {
     "end_time": "2019-09-29T19:44:15.014382Z",
     "start_time": "2019-09-29T19:44:14.651969Z"
    }
   },
   "outputs": [
    {
     "data": {
      "text/html": [
       "<div>\n",
       "<style scoped>\n",
       "    .dataframe tbody tr th:only-of-type {\n",
       "        vertical-align: middle;\n",
       "    }\n",
       "\n",
       "    .dataframe tbody tr th {\n",
       "        vertical-align: top;\n",
       "    }\n",
       "\n",
       "    .dataframe thead th {\n",
       "        text-align: right;\n",
       "    }\n",
       "</style>\n",
       "<table border=\"1\" class=\"dataframe\">\n",
       "  <thead>\n",
       "    <tr style=\"text-align: right;\">\n",
       "      <th></th>\n",
       "      <th>Date</th>\n",
       "      <th>High</th>\n",
       "    </tr>\n",
       "  </thead>\n",
       "  <tbody>\n",
       "    <tr>\n",
       "      <td>0</td>\n",
       "      <td>2012</td>\n",
       "      <td>77.599998</td>\n",
       "    </tr>\n",
       "    <tr>\n",
       "      <td>1</td>\n",
       "      <td>2013</td>\n",
       "      <td>81.370003</td>\n",
       "    </tr>\n",
       "    <tr>\n",
       "      <td>2</td>\n",
       "      <td>2014</td>\n",
       "      <td>88.089996</td>\n",
       "    </tr>\n",
       "    <tr>\n",
       "      <td>3</td>\n",
       "      <td>2015</td>\n",
       "      <td>90.970001</td>\n",
       "    </tr>\n",
       "    <tr>\n",
       "      <td>4</td>\n",
       "      <td>2016</td>\n",
       "      <td>75.190002</td>\n",
       "    </tr>\n",
       "  </tbody>\n",
       "</table>\n",
       "</div>"
      ],
      "text/plain": [
       "   Date       High\n",
       "0  2012  77.599998\n",
       "1  2013  81.370003\n",
       "2  2014  88.089996\n",
       "3  2015  90.970001\n",
       "4  2016  75.190002"
      ]
     },
     "execution_count": 38,
     "metadata": {},
     "output_type": "execute_result"
    }
   ],
   "source": [
    "# For pandas\n",
    "dfp = df.toPandas()\n",
    "\n",
    "(dfp[['Date','High']]\n",
    " .groupby(dfp['Date'].dt.year)['High']\n",
    " .max()\n",
    " .reset_index()\n",
    ")"
   ]
  },
  {
   "cell_type": "markdown",
   "metadata": {},
   "source": [
    "#### What is the average Close for each Calendar Month?\n",
    "#### In other words, across all the years, what is the average Close price for Jan,Feb, Mar, etc... Your result will have a value for each of these months. "
   ]
  },
  {
   "cell_type": "code",
   "execution_count": 39,
   "metadata": {
    "ExecuteTime": {
     "end_time": "2019-09-29T19:44:16.208793Z",
     "start_time": "2019-09-29T19:44:15.016625Z"
    }
   },
   "outputs": [
    {
     "name": "stdout",
     "output_type": "stream",
     "text": [
      "+-----+-----------------+\n",
      "|Month|        avg(High)|\n",
      "+-----+-----------------+\n",
      "|    1|71.97009924752473|\n",
      "|    2|71.72845387628868|\n",
      "|    3|72.20289709345795|\n",
      "|    4|73.45123863809525|\n",
      "|    5|72.71783049056604|\n",
      "|    6| 72.9262265471698|\n",
      "|    7|74.77878527102803|\n",
      "|    8|73.51781822727274|\n",
      "|    9|72.60294148039216|\n",
      "|   10|72.12963649090909|\n",
      "|   11|72.52673264356439|\n",
      "|   12|73.35566025471698|\n",
      "+-----+-----------------+\n",
      "\n"
     ]
    }
   ],
   "source": [
    "(df.withColumn('Month', F.month('Date'))\n",
    " .groupBy('Month').avg()\n",
    " .select('Month', 'avg(High)')\n",
    " .orderBy('Month')\n",
    ").show()"
   ]
  },
  {
   "cell_type": "code",
   "execution_count": 40,
   "metadata": {
    "ExecuteTime": {
     "end_time": "2019-09-29T19:44:16.234469Z",
     "start_time": "2019-09-29T19:44:16.211237Z"
    }
   },
   "outputs": [
    {
     "data": {
      "text/html": [
       "<div>\n",
       "<style scoped>\n",
       "    .dataframe tbody tr th:only-of-type {\n",
       "        vertical-align: middle;\n",
       "    }\n",
       "\n",
       "    .dataframe tbody tr th {\n",
       "        vertical-align: top;\n",
       "    }\n",
       "\n",
       "    .dataframe thead th {\n",
       "        text-align: right;\n",
       "    }\n",
       "</style>\n",
       "<table border=\"1\" class=\"dataframe\">\n",
       "  <thead>\n",
       "    <tr style=\"text-align: right;\">\n",
       "      <th></th>\n",
       "      <th>Date</th>\n",
       "      <th>High</th>\n",
       "    </tr>\n",
       "  </thead>\n",
       "  <tbody>\n",
       "    <tr>\n",
       "      <td>0</td>\n",
       "      <td>1</td>\n",
       "      <td>90.970001</td>\n",
       "    </tr>\n",
       "    <tr>\n",
       "      <td>1</td>\n",
       "      <td>2</td>\n",
       "      <td>88.000000</td>\n",
       "    </tr>\n",
       "    <tr>\n",
       "      <td>2</td>\n",
       "      <td>3</td>\n",
       "      <td>84.000000</td>\n",
       "    </tr>\n",
       "    <tr>\n",
       "      <td>3</td>\n",
       "      <td>4</td>\n",
       "      <td>82.279999</td>\n",
       "    </tr>\n",
       "    <tr>\n",
       "      <td>4</td>\n",
       "      <td>5</td>\n",
       "      <td>79.959999</td>\n",
       "    </tr>\n",
       "    <tr>\n",
       "      <td>5</td>\n",
       "      <td>6</td>\n",
       "      <td>77.760002</td>\n",
       "    </tr>\n",
       "    <tr>\n",
       "      <td>6</td>\n",
       "      <td>7</td>\n",
       "      <td>78.690002</td>\n",
       "    </tr>\n",
       "    <tr>\n",
       "      <td>7</td>\n",
       "      <td>8</td>\n",
       "      <td>79.000000</td>\n",
       "    </tr>\n",
       "    <tr>\n",
       "      <td>8</td>\n",
       "      <td>9</td>\n",
       "      <td>77.730003</td>\n",
       "    </tr>\n",
       "    <tr>\n",
       "      <td>9</td>\n",
       "      <td>10</td>\n",
       "      <td>79.370003</td>\n",
       "    </tr>\n",
       "    <tr>\n",
       "      <td>10</td>\n",
       "      <td>11</td>\n",
       "      <td>88.089996</td>\n",
       "    </tr>\n",
       "    <tr>\n",
       "      <td>11</td>\n",
       "      <td>12</td>\n",
       "      <td>87.440002</td>\n",
       "    </tr>\n",
       "  </tbody>\n",
       "</table>\n",
       "</div>"
      ],
      "text/plain": [
       "    Date       High\n",
       "0      1  90.970001\n",
       "1      2  88.000000\n",
       "2      3  84.000000\n",
       "3      4  82.279999\n",
       "4      5  79.959999\n",
       "5      6  77.760002\n",
       "6      7  78.690002\n",
       "7      8  79.000000\n",
       "8      9  77.730003\n",
       "9     10  79.370003\n",
       "10    11  88.089996\n",
       "11    12  87.440002"
      ]
     },
     "execution_count": 40,
     "metadata": {},
     "output_type": "execute_result"
    }
   ],
   "source": [
    "(dfp[['Date','High']]\n",
    " .groupby(dfp['Date'].dt.month)['High']\n",
    " .max()\n",
    " .reset_index()\n",
    ")"
   ]
  },
  {
   "cell_type": "markdown",
   "metadata": {},
   "source": [
    "# Great Job!"
   ]
  },
  {
   "cell_type": "markdown",
   "metadata": {},
   "source": [
    "# Extra Examples"
   ]
  },
  {
   "cell_type": "code",
   "execution_count": 41,
   "metadata": {
    "ExecuteTime": {
     "end_time": "2019-09-29T19:44:16.448744Z",
     "start_time": "2019-09-29T19:44:16.242099Z"
    }
   },
   "outputs": [
    {
     "name": "stdout",
     "output_type": "stream",
     "text": [
      "+-------------------+---------+-------+\n",
      "|               Date|dayofweek|dayname|\n",
      "+-------------------+---------+-------+\n",
      "|2012-01-03 00:00:00|        2|    Tue|\n",
      "|2012-01-04 00:00:00|        3|    Wed|\n",
      "|2012-01-05 00:00:00|        4|    Thu|\n",
      "|2012-01-06 00:00:00|        5|    Fri|\n",
      "|2012-01-09 00:00:00|        1|    Mon|\n",
      "|2012-01-10 00:00:00|        2|    Tue|\n",
      "|2012-01-11 00:00:00|        3|    Wed|\n",
      "|2012-01-12 00:00:00|        4|    Thu|\n",
      "|2012-01-13 00:00:00|        5|    Fri|\n",
      "|2012-01-17 00:00:00|        2|    Tue|\n",
      "|2012-01-18 00:00:00|        3|    Wed|\n",
      "|2012-01-19 00:00:00|        4|    Thu|\n",
      "|2012-01-20 00:00:00|        5|    Fri|\n",
      "|2012-01-23 00:00:00|        1|    Mon|\n",
      "|2012-01-24 00:00:00|        2|    Tue|\n",
      "|2012-01-25 00:00:00|        3|    Wed|\n",
      "|2012-01-26 00:00:00|        4|    Thu|\n",
      "|2012-01-27 00:00:00|        5|    Fri|\n",
      "|2012-01-30 00:00:00|        1|    Mon|\n",
      "|2012-01-31 00:00:00|        2|    Tue|\n",
      "+-------------------+---------+-------+\n",
      "only showing top 20 rows\n",
      "\n"
     ]
    }
   ],
   "source": [
    "(df.select('Date',\n",
    "           F.date_format('Date', 'u').alias('dayofweek'),\n",
    "           F.date_format('Date', 'E').alias('dayname'))\n",
    " .show()\n",
    ")"
   ]
  },
  {
   "cell_type": "code",
   "execution_count": null,
   "metadata": {},
   "outputs": [],
   "source": []
  }
 ],
 "metadata": {
  "anaconda-cloud": {},
  "kernelspec": {
   "display_name": "Python (spk)",
   "language": "python",
   "name": "spk"
  },
  "language_info": {
   "codemirror_mode": {
    "name": "ipython",
    "version": 3
   },
   "file_extension": ".py",
   "mimetype": "text/x-python",
   "name": "python",
   "nbconvert_exporter": "python",
   "pygments_lexer": "ipython3",
   "version": "3.7.4"
  },
  "toc": {
   "base_numbering": 1,
   "nav_menu": {},
   "number_sections": true,
   "sideBar": true,
   "skip_h1_title": false,
   "title_cell": "Table of Contents",
   "title_sidebar": "Contents",
   "toc_cell": true,
   "toc_position": {},
   "toc_section_display": true,
   "toc_window_display": true
  }
 },
 "nbformat": 4,
 "nbformat_minor": 1
}
